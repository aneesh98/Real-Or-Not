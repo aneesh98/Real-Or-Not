{
  "nbformat": 4,
  "nbformat_minor": 0,
  "metadata": {
    "colab": {
      "name": "RealOrNot.ipynb",
      "provenance": [],
      "authorship_tag": "ABX9TyN4iVHsT0Ic8dS2nzeQti9j"
    },
    "kernelspec": {
      "name": "python3",
      "display_name": "Python 3"
    }
  },
  "cells": [
    {
      "cell_type": "code",
      "metadata": {
        "id": "mzPtfoHrikAv",
        "colab_type": "code",
        "outputId": "6a731cbc-9995-4229-8188-110da9ff31f6",
        "colab": {
          "base_uri": "https://localhost:8080/",
          "height": 122
        }
      },
      "source": [
        "!chmod +x kagglesetup.sh\n",
        "!./kagglesetup.sh c nlp-getting-started"
      ],
      "execution_count": 74,
      "outputs": [
        {
          "output_type": "stream",
          "text": [
            "Warning: Your Kaggle API key is readable by other users on this system! To fix this, you can run 'chmod 600 /root/.kaggle/kaggle.json'\n",
            "Warning: Looks like you're using an outdated API Version, please consider updating (server 1.5.6 / client 1.5.4)\n",
            "sample_submission.csv: Skipping, found more recently modified local copy (use --force to force download)\n",
            "test.csv: Skipping, found more recently modified local copy (use --force to force download)\n",
            "train.csv: Skipping, found more recently modified local copy (use --force to force download)\n"
          ],
          "name": "stdout"
        }
      ]
    },
    {
      "cell_type": "code",
      "metadata": {
        "id": "1AYM7Hjz3Lwm",
        "colab_type": "code",
        "outputId": "a21ade0f-d683-4061-9e60-ba9a8c861c9f",
        "colab": {
          "base_uri": "https://localhost:8080/",
          "height": 102
        }
      },
      "source": [
        "import pandas as pd\n",
        "import numpy as np\n",
        "import tensorflow as tf\n",
        "import nltk\n",
        "nltk.download('averaged_perceptron_tagger')"
      ],
      "execution_count": 75,
      "outputs": [
        {
          "output_type": "stream",
          "text": [
            "[nltk_data] Downloading package averaged_perceptron_tagger to\n",
            "[nltk_data]     /root/nltk_data...\n",
            "[nltk_data]   Package averaged_perceptron_tagger is already up-to-\n",
            "[nltk_data]       date!\n"
          ],
          "name": "stdout"
        },
        {
          "output_type": "execute_result",
          "data": {
            "text/plain": [
              "True"
            ]
          },
          "metadata": {
            "tags": []
          },
          "execution_count": 75
        }
      ]
    },
    {
      "cell_type": "code",
      "metadata": {
        "id": "I4AanRS1iP1F",
        "colab_type": "code",
        "outputId": "e702643a-0dad-4ab7-909e-5226ae8fcecd",
        "colab": {
          "base_uri": "https://localhost:8080/",
          "height": 119
        }
      },
      "source": [
        "train_file_name = 'train.csv'\n",
        "df_train = pd.read_csv(train_file_name)\n",
        "train_column_names = df_train.columns.values\n",
        "print(df_train['keyword'].isnull().value_counts())\n",
        "print(df_train['location'].isnull().value_counts())\n"
      ],
      "execution_count": 76,
      "outputs": [
        {
          "output_type": "stream",
          "text": [
            "False    7552\n",
            "True       61\n",
            "Name: keyword, dtype: int64\n",
            "False    5080\n",
            "True     2533\n",
            "Name: location, dtype: int64\n"
          ],
          "name": "stdout"
        }
      ]
    },
    {
      "cell_type": "code",
      "metadata": {
        "id": "Z5WlYORXJe_K",
        "colab_type": "code",
        "outputId": "9023c7d0-93cc-48b7-953b-ca7b65029f52",
        "colab": {
          "base_uri": "https://localhost:8080/",
          "height": 419
        }
      },
      "source": [
        "df_train[~(df_train['location'].isnull())]"
      ],
      "execution_count": 77,
      "outputs": [
        {
          "output_type": "execute_result",
          "data": {
            "text/html": [
              "<div>\n",
              "<style scoped>\n",
              "    .dataframe tbody tr th:only-of-type {\n",
              "        vertical-align: middle;\n",
              "    }\n",
              "\n",
              "    .dataframe tbody tr th {\n",
              "        vertical-align: top;\n",
              "    }\n",
              "\n",
              "    .dataframe thead th {\n",
              "        text-align: right;\n",
              "    }\n",
              "</style>\n",
              "<table border=\"1\" class=\"dataframe\">\n",
              "  <thead>\n",
              "    <tr style=\"text-align: right;\">\n",
              "      <th></th>\n",
              "      <th>id</th>\n",
              "      <th>keyword</th>\n",
              "      <th>location</th>\n",
              "      <th>text</th>\n",
              "      <th>target</th>\n",
              "    </tr>\n",
              "  </thead>\n",
              "  <tbody>\n",
              "    <tr>\n",
              "      <th>31</th>\n",
              "      <td>48</td>\n",
              "      <td>ablaze</td>\n",
              "      <td>Birmingham</td>\n",
              "      <td>@bbcmtd Wholesale Markets ablaze http://t.co/l...</td>\n",
              "      <td>1</td>\n",
              "    </tr>\n",
              "    <tr>\n",
              "      <th>32</th>\n",
              "      <td>49</td>\n",
              "      <td>ablaze</td>\n",
              "      <td>Est. September 2012 - Bristol</td>\n",
              "      <td>We always try to bring the heavy. #metal #RT h...</td>\n",
              "      <td>0</td>\n",
              "    </tr>\n",
              "    <tr>\n",
              "      <th>33</th>\n",
              "      <td>50</td>\n",
              "      <td>ablaze</td>\n",
              "      <td>AFRICA</td>\n",
              "      <td>#AFRICANBAZE: Breaking news:Nigeria flag set a...</td>\n",
              "      <td>1</td>\n",
              "    </tr>\n",
              "    <tr>\n",
              "      <th>34</th>\n",
              "      <td>52</td>\n",
              "      <td>ablaze</td>\n",
              "      <td>Philadelphia, PA</td>\n",
              "      <td>Crying out for more! Set me ablaze</td>\n",
              "      <td>0</td>\n",
              "    </tr>\n",
              "    <tr>\n",
              "      <th>35</th>\n",
              "      <td>53</td>\n",
              "      <td>ablaze</td>\n",
              "      <td>London, UK</td>\n",
              "      <td>On plus side LOOK AT THE SKY LAST NIGHT IT WAS...</td>\n",
              "      <td>0</td>\n",
              "    </tr>\n",
              "    <tr>\n",
              "      <th>...</th>\n",
              "      <td>...</td>\n",
              "      <td>...</td>\n",
              "      <td>...</td>\n",
              "      <td>...</td>\n",
              "      <td>...</td>\n",
              "    </tr>\n",
              "    <tr>\n",
              "      <th>7575</th>\n",
              "      <td>10826</td>\n",
              "      <td>wrecked</td>\n",
              "      <td>TN</td>\n",
              "      <td>On the bright side I wrecked http://t.co/uEa0t...</td>\n",
              "      <td>0</td>\n",
              "    </tr>\n",
              "    <tr>\n",
              "      <th>7577</th>\n",
              "      <td>10829</td>\n",
              "      <td>wrecked</td>\n",
              "      <td>#NewcastleuponTyne #UK</td>\n",
              "      <td>@widda16 ... He's gone. You can relax. I thoug...</td>\n",
              "      <td>0</td>\n",
              "    </tr>\n",
              "    <tr>\n",
              "      <th>7579</th>\n",
              "      <td>10831</td>\n",
              "      <td>wrecked</td>\n",
              "      <td>Vancouver, Canada</td>\n",
              "      <td>Three days off from work and they've pretty mu...</td>\n",
              "      <td>0</td>\n",
              "    </tr>\n",
              "    <tr>\n",
              "      <th>7580</th>\n",
              "      <td>10832</td>\n",
              "      <td>wrecked</td>\n",
              "      <td>London</td>\n",
              "      <td>#FX #forex #trading Cramer: Iger's 3 words tha...</td>\n",
              "      <td>0</td>\n",
              "    </tr>\n",
              "    <tr>\n",
              "      <th>7581</th>\n",
              "      <td>10833</td>\n",
              "      <td>wrecked</td>\n",
              "      <td>Lincoln</td>\n",
              "      <td>@engineshed Great atmosphere at the British Li...</td>\n",
              "      <td>0</td>\n",
              "    </tr>\n",
              "  </tbody>\n",
              "</table>\n",
              "<p>5080 rows × 5 columns</p>\n",
              "</div>"
            ],
            "text/plain": [
              "         id  keyword  ...                                               text target\n",
              "31       48   ablaze  ...  @bbcmtd Wholesale Markets ablaze http://t.co/l...      1\n",
              "32       49   ablaze  ...  We always try to bring the heavy. #metal #RT h...      0\n",
              "33       50   ablaze  ...  #AFRICANBAZE: Breaking news:Nigeria flag set a...      1\n",
              "34       52   ablaze  ...                 Crying out for more! Set me ablaze      0\n",
              "35       53   ablaze  ...  On plus side LOOK AT THE SKY LAST NIGHT IT WAS...      0\n",
              "...     ...      ...  ...                                                ...    ...\n",
              "7575  10826  wrecked  ...  On the bright side I wrecked http://t.co/uEa0t...      0\n",
              "7577  10829  wrecked  ...  @widda16 ... He's gone. You can relax. I thoug...      0\n",
              "7579  10831  wrecked  ...  Three days off from work and they've pretty mu...      0\n",
              "7580  10832  wrecked  ...  #FX #forex #trading Cramer: Iger's 3 words tha...      0\n",
              "7581  10833  wrecked  ...  @engineshed Great atmosphere at the British Li...      0\n",
              "\n",
              "[5080 rows x 5 columns]"
            ]
          },
          "metadata": {
            "tags": []
          },
          "execution_count": 77
        }
      ]
    },
    {
      "cell_type": "markdown",
      "metadata": {
        "id": "IoaOApjNC3kY",
        "colab_type": "text"
      },
      "source": [
        "Looking at the variation in the lengths of the tweets.\n",
        "The histogram shows most of the tweets have length of 125 words."
      ]
    },
    {
      "cell_type": "code",
      "metadata": {
        "id": "INk7tVaWJ8fy",
        "colab_type": "code",
        "outputId": "d0236adb-3540-40be-b136-cf9a53a4916f",
        "colab": {
          "base_uri": "https://localhost:8080/",
          "height": 354
        }
      },
      "source": [
        "import matplotlib.pyplot as plt\n",
        "plt.style.use('ggplot')\n",
        "actual_disasters = df_train.loc[df_train['target'] == 1, 'text']\n",
        "not_disasters = df_train.loc[df_train['target'] == 0, 'text']\n",
        "fig, (ax1, ax2) = plt.subplots(1, 2, figsize = (10, 5))\n",
        "num_words_ad = actual_disasters.str.len()\n",
        "ax1.hist(num_words_ad, color = 'red')\n",
        "ax1.set_title('Disaster Tweets')\n",
        "num_words_nd = not_disasters.str.len()\n",
        "ax2.hist(num_words_nd, color = 'yellow')\n",
        "ax2.set_title('Non Disaster Tweets')"
      ],
      "execution_count": 78,
      "outputs": [
        {
          "output_type": "execute_result",
          "data": {
            "text/plain": [
              "Text(0.5, 1.0, 'Non Disaster Tweets')"
            ]
          },
          "metadata": {
            "tags": []
          },
          "execution_count": 78
        },
        {
          "output_type": "display_data",
          "data": {
            "image/png": "[encoded data removed]",
            "text/plain": [
              "<Figure size 720x360 with 2 Axes>"
            ]
          },
          "metadata": {
            "tags": []
          }
        }
      ]
    },
    {
      "cell_type": "code",
      "metadata": {
        "id": "c9bW6RO32xAQ",
        "colab_type": "code",
        "outputId": "4030a0c4-0c1d-4ddf-d72b-12beb0b405b4",
        "colab": {
          "base_uri": "https://localhost:8080/",
          "height": 367
        }
      },
      "source": [
        "nltk.download('punkt')\n",
        "default_st = nltk.word_tokenize\n",
        "tokenized_tweets = df_train['text'].map(lambda x: x.split()).map(lambda x: len(x))\n",
        "plt.hist(tokenized_tweets)"
      ],
      "execution_count": 79,
      "outputs": [
        {
          "output_type": "stream",
          "text": [
            "[nltk_data] Downloading package punkt to /root/nltk_data...\n",
            "[nltk_data]   Package punkt is already up-to-date!\n"
          ],
          "name": "stdout"
        },
        {
          "output_type": "execute_result",
          "data": {
            "text/plain": [
              "(array([ 117.,  460.,  898., 1246., 1320., 1439., 1095.,  688.,  287.,\n",
              "          63.]),\n",
              " array([ 1.,  4.,  7., 10., 13., 16., 19., 22., 25., 28., 31.]),\n",
              " <a list of 10 Patch objects>)"
            ]
          },
          "metadata": {
            "tags": []
          },
          "execution_count": 79
        },
        {
          "output_type": "display_data",
          "data": {
            "image/png": "[encoded data removed]",
            "text/plain": [
              "<Figure size 432x288 with 1 Axes>"
            ]
          },
          "metadata": {
            "tags": []
          }
        }
      ]
    },
    {
      "cell_type": "code",
      "metadata": {
        "id": "WmNbUsITsIkE",
        "colab_type": "code",
        "outputId": "f8642c1d-c1e3-4d63-98f7-c89a4fe70a72",
        "colab": {
          "base_uri": "https://localhost:8080/",
          "height": 54
        }
      },
      "source": [
        "first_text = actual_disasters[0]\n",
        "import nltk\n",
        "try:\n",
        "  print(nltk.pos_tag(first_text.split()))\n",
        "except LookupError:\n",
        "  nltk.download('averaged_perceptron_tagger')\n",
        "  print(nltk.pos_tag(first_text.split()))"
      ],
      "execution_count": 80,
      "outputs": [
        {
          "output_type": "stream",
          "text": [
            "[('Our', 'PRP$'), ('Deeds', 'NNS'), ('are', 'VBP'), ('the', 'DT'), ('Reason', 'NNP'), ('of', 'IN'), ('this', 'DT'), ('#earthquake', 'NN'), ('May', 'NNP'), ('ALLAH', 'NNP'), ('Forgive', 'NNP'), ('us', 'PRP'), ('all', 'DT')]\n"
          ],
          "name": "stdout"
        }
      ]
    },
    {
      "cell_type": "code",
      "metadata": {
        "id": "uDmjgXw5gIUr",
        "colab_type": "code",
        "outputId": "b01ea9af-35c9-49cd-e64a-47290dafe143",
        "colab": {
          "base_uri": "https://localhost:8080/",
          "height": 221
        }
      },
      "source": [
        "pos_tagged_sent = nltk.pos_tag(first_text.split())\n",
        "grammar = '''\n",
        "            NP: {<DT>?<JJ>?<NN.*>}\n",
        "            ADJP: {<JJ>}\n",
        "            ADVP: {<RB.*>}\n",
        "            PP: {<IN>}\n",
        "            VP: {<MD>?<VB.*>+}\n",
        "          '''\n",
        "rp = nltk.RegexpParser(grammar)\n",
        "shallow_parsed_sent = rp.parse(pos_tagged_sent)\n",
        "print(shallow_parsed_sent)"
      ],
      "execution_count": 81,
      "outputs": [
        {
          "output_type": "stream",
          "text": [
            "(S\n",
            "  Our/PRP$\n",
            "  (NP Deeds/NNS)\n",
            "  (VP are/VBP)\n",
            "  (NP the/DT Reason/NNP)\n",
            "  (PP of/IN)\n",
            "  (NP this/DT #earthquake/NN)\n",
            "  (NP May/NNP)\n",
            "  (NP ALLAH/NNP)\n",
            "  (NP Forgive/NNP)\n",
            "  us/PRP\n",
            "  all/DT)\n"
          ],
          "name": "stdout"
        }
      ]
    },
    {
      "cell_type": "code",
      "metadata": {
        "id": "bucbaTwn5Db5",
        "colab_type": "code",
        "outputId": "bee35f6f-9065-4163-f65b-7f2204a3e185",
        "colab": {
          "base_uri": "https://localhost:8080/",
          "height": 34
        }
      },
      "source": [
        "import string\n",
        "from collections import defaultdict\n",
        "\n",
        "special_chars = string.punctuation\n",
        "actual_disasters_list = actual_disasters.to_list()\n",
        "not_disasters_list = not_disasters.to_list()\n",
        "all_texts = actual_disasters_list + not_disasters_list\n",
        "all_texts = [x.split() for x in all_texts]\n",
        "len(all_texts), len(actual_disasters_list) + len(not_disasters_list)"
      ],
      "execution_count": 82,
      "outputs": [
        {
          "output_type": "execute_result",
          "data": {
            "text/plain": [
              "(7613, 7613)"
            ]
          },
          "metadata": {
            "tags": []
          },
          "execution_count": 82
        }
      ]
    },
    {
      "cell_type": "code",
      "metadata": {
        "id": "_fchpiJw6bvX",
        "colab_type": "code",
        "colab": {}
      },
      "source": [
        " def get_dict(lists):\n",
        "  dic = defaultdict(int)\n",
        "  for j in lists:\n",
        "    for i in j:\n",
        "      if i in special_chars:\n",
        "        dic[i] += 1\n",
        "  return dic"
      ],
      "execution_count": 0,
      "outputs": []
    },
    {
      "cell_type": "markdown",
      "metadata": {
        "id": "PQam14N9DHPP",
        "colab_type": "text"
      },
      "source": [
        "**Looking at the special characters present and their frequency.**"
      ]
    },
    {
      "cell_type": "code",
      "metadata": {
        "id": "Bq3gyDjG7S6p",
        "colab_type": "code",
        "outputId": "b674ace2-21db-41b2-86f2-f966b04e2007",
        "colab": {
          "base_uri": "https://localhost:8080/",
          "height": 283
        }
      },
      "source": [
        "dic_ad = get_dict(actual_disasters)\n",
        "dic_nd = get_dict(not_disasters)\n",
        "x_ad, y_ad = zip(*dic_ad.items())\n",
        "plt.bar(x_ad, y_ad, color = 'red')\n"
      ],
      "execution_count": 84,
      "outputs": [
        {
          "output_type": "execute_result",
          "data": {
            "text/plain": [
              "<BarContainer object of 29 artists>"
            ]
          },
          "metadata": {
            "tags": []
          },
          "execution_count": 84
        },
        {
          "output_type": "display_data",
          "data": {
            "image/png": "[encoded data removed]",
            "text/plain": [
              "<Figure size 432x288 with 1 Axes>"
            ]
          },
          "metadata": {
            "tags": []
          }
        }
      ]
    },
    {
      "cell_type": "code",
      "metadata": {
        "id": "pFJaLJaQDSxm",
        "colab_type": "code",
        "outputId": "02c1b1c4-56b3-4197-d7cc-b3ad7d737b8f",
        "colab": {
          "base_uri": "https://localhost:8080/",
          "height": 34
        }
      },
      "source": [
        "import re \n",
        "string = 'Go To https://www.mysite.com'\n",
        "pattern = 'https://\\S+|www\\.\\S+'\n",
        "res = re.sub(pattern, '', string, re.IGNORECASE)\n",
        "print(res)"
      ],
      "execution_count": 85,
      "outputs": [
        {
          "output_type": "stream",
          "text": [
            "Go To \n"
          ],
          "name": "stdout"
        }
      ]
    },
    {
      "cell_type": "markdown",
      "metadata": {
        "id": "PonPNpPODXb0",
        "colab_type": "text"
      },
      "source": [
        "Looking for the presence of stopwords and their counts."
      ]
    },
    {
      "cell_type": "code",
      "metadata": {
        "id": "w69k6Z30P_jX",
        "colab_type": "code",
        "outputId": "240127be-d7c8-4fe6-da10-94ee88522f9f",
        "colab": {
          "base_uri": "https://localhost:8080/",
          "height": 316
        }
      },
      "source": [
        "from nltk.corpus import stopwords\n",
        "nltk.download('stopwords')\n",
        "stop=set(stopwords.words('english'))\n",
        "word_count = defaultdict(int)\n",
        "for tweets in all_texts:\n",
        "  for word in tweets:\n",
        "    if word in stop:\n",
        "      word_count[word] += 1\n",
        "top=sorted(word_count.items(), key=lambda x:x[1],reverse=True)[:10]\n",
        "words, counts = zip(*top)\n",
        "plt.bar(words, counts, color = 'blue')"
      ],
      "execution_count": 86,
      "outputs": [
        {
          "output_type": "stream",
          "text": [
            "[nltk_data] Downloading package stopwords to /root/nltk_data...\n",
            "[nltk_data]   Package stopwords is already up-to-date!\n"
          ],
          "name": "stdout"
        },
        {
          "output_type": "execute_result",
          "data": {
            "text/plain": [
              "<BarContainer object of 10 artists>"
            ]
          },
          "metadata": {
            "tags": []
          },
          "execution_count": 86
        },
        {
          "output_type": "display_data",
          "data": {
            "image/png": "[encoded data removed]",
            "text/plain": [
              "<Figure size 432x288 with 1 Axes>"
            ]
          },
          "metadata": {
            "tags": []
          }
        }
      ]
    },
    {
      "cell_type": "markdown",
      "metadata": {
        "id": "_Rq8i3VkDTu_",
        "colab_type": "text"
      },
      "source": [
        "CHECKING AND REMOVING URLS"
      ]
    },
    {
      "cell_type": "code",
      "metadata": {
        "id": "opbcGy96B6P-",
        "colab_type": "code",
        "outputId": "a3c096c3-2ccf-43b6-85c9-87308181e75a",
        "colab": {
          "base_uri": "https://localhost:8080/",
          "height": 34
        }
      },
      "source": [
        "### CHECK FOR URLS\n",
        "import re\n",
        "def check_urls(texts):\n",
        "  linked_tweets = []\n",
        "  pattern1 = 'http://\\S+|www\\.\\S+'\n",
        "  pattern2 = 'https://\\S+|www\\.\\S+'\n",
        "  for x in texts:\n",
        "    if re.search(pattern1, x, re.IGNORECASE)!=None or  re.search(pattern2, x, re.IGNORECASE) != None:\n",
        "      linked_tweets.append(x)\n",
        "  return linked_tweets\n",
        "linked_tweets = check_urls(not_disasters_list)\n",
        "print(len(linked_tweets))"
      ],
      "execution_count": 87,
      "outputs": [
        {
          "output_type": "stream",
          "text": [
            "1799\n"
          ],
          "name": "stdout"
        }
      ]
    },
    {
      "cell_type": "markdown",
      "metadata": {
        "id": "i907tXmlDcm5",
        "colab_type": "text"
      },
      "source": [
        "Finding tweets with hypertext"
      ]
    },
    {
      "cell_type": "code",
      "metadata": {
        "id": "YTzuFZ4UNnfk",
        "colab_type": "code",
        "outputId": "db81a9f1-6082-4cb0-d3d1-4e264bcfb009",
        "colab": {
          "base_uri": "https://localhost:8080/",
          "height": 34
        }
      },
      "source": [
        "pattern = r\"<.*>\"\n",
        "linked_tweets = []\n",
        "for x in actual_disasters_list:\n",
        "  if re.search(pattern, x, re.IGNORECASE)!=None:\n",
        "    linked_tweets.append(x)\n",
        "print(len(linked_tweets))"
      ],
      "execution_count": 88,
      "outputs": [
        {
          "output_type": "stream",
          "text": [
            "0\n"
          ],
          "name": "stdout"
        }
      ]
    },
    {
      "cell_type": "code",
      "metadata": {
        "id": "WpTgrpcyH89Y",
        "colab_type": "code",
        "outputId": "8f7e4a51-450d-4800-b039-7d8563d6e939",
        "colab": {
          "base_uri": "https://localhost:8080/",
          "height": 34
        }
      },
      "source": [
        "### REMOVE URLS ###\n",
        "def remove_urls(x):\n",
        "  pattern1 = r'http?://\\S+|www\\.\\S+'\n",
        "  pattern2 = r'https?://\\S+|www\\.\\S+'\n",
        "  res = re.sub(pattern1, '', x, re.IGNORECASE)\n",
        "  res = re.sub(pattern2, '', x, re.IGNORECASE)\n",
        "  return res\n",
        "\n",
        "df_train['text'] = df_train['text'].map(lambda x: remove_urls(x))\n",
        "linked_tweets = check_urls(df_train['text'].to_list())\n",
        "print(len(linked_tweets))\n",
        "### REMOVE HTML TAGS ###\n",
        "def remove_tags(x):\n",
        "  pass"
      ],
      "execution_count": 89,
      "outputs": [
        {
          "output_type": "stream",
          "text": [
            "25\n"
          ],
          "name": "stdout"
        }
      ]
    },
    {
      "cell_type": "code",
      "metadata": {
        "id": "h3MUl3UQU1a7",
        "colab_type": "code",
        "outputId": "790e4453-9f88-4d3d-bdc7-3ccf39e3a7f0",
        "colab": {
          "base_uri": "https://localhost:8080/",
          "height": 34
        }
      },
      "source": [
        "def remove_emoji(text):\n",
        "    emoji_pattern = re.compile(\"[\"\n",
        "                           u\"\\U0001F600-\\U0001F64F\"  # emoticons\n",
        "                           u\"\\U0001F300-\\U0001F5FF\"  # symbols & pictographs\n",
        "                           u\"\\U0001F680-\\U0001F6FF\"  # transport & map symbols\n",
        "                           u\"\\U0001F1E0-\\U0001F1FF\"  # flags (iOS)\n",
        "                           u\"\\U00002702-\\U000027B0\"\n",
        "                           u\"\\U000024C2-\\U0001F251\"\n",
        "                           \"]+\", flags=re.UNICODE)\n",
        "    return emoji_pattern.sub(r'', text)\n",
        "\n",
        "remove_emoji(\"Omg another Earthquake 😔😔\")"
      ],
      "execution_count": 90,
      "outputs": [
        {
          "output_type": "execute_result",
          "data": {
            "text/plain": [
              "'Omg another Earthquake '"
            ]
          },
          "metadata": {
            "tags": []
          },
          "execution_count": 90
        }
      ]
    },
    {
      "cell_type": "code",
      "metadata": {
        "id": "LSBahOVIvSEE",
        "colab_type": "code",
        "colab": {}
      },
      "source": [
        "df_train['text']=df_train['text'].apply(lambda x: remove_emoji(x))"
      ],
      "execution_count": 0,
      "outputs": []
    },
    {
      "cell_type": "code",
      "metadata": {
        "id": "cZzMVQFavViu",
        "colab_type": "code",
        "colab": {}
      },
      "source": [
        "def remove_punct(text):\n",
        "  pattern = r'[^a-zA-Z0-9\\s]'\n",
        "  text = re.sub(pattern, '', text)\n",
        "  return text\n",
        "\n",
        "df_train['text'] = df_train['text'].map(lambda x: \n",
        "                                        remove_punct(x))"
      ],
      "execution_count": 0,
      "outputs": []
    },
    {
      "cell_type": "code",
      "metadata": {
        "id": "W-RtjZeu0QOK",
        "colab_type": "code",
        "colab": {}
      },
      "source": [
        "dic = get_dict(df_train['text'].to_list())"
      ],
      "execution_count": 0,
      "outputs": []
    },
    {
      "cell_type": "code",
      "metadata": {
        "id": "EA2WcvhW0UhK",
        "colab_type": "code",
        "colab": {}
      },
      "source": [
        "from keras.preprocessing.text import Tokenizer\n",
        "from keras.preprocessing.sequence import pad_sequences\n",
        "tokenizer = Tokenizer()\n",
        "tokenizer.fit_on_texts(df_train['text'])\n"
      ],
      "execution_count": 0,
      "outputs": []
    },
    {
      "cell_type": "code",
      "metadata": {
        "id": "qbG9fsodInky",
        "colab_type": "code",
        "outputId": "59a0b3e0-c4a5-40e8-ea72-df8fb40768df",
        "colab": {
          "base_uri": "https://localhost:8080/",
          "height": 34
        }
      },
      "source": [
        "def remove_stopwords(text):\n",
        "  tokens = text.split()\n",
        "  filtered_tokens = [token for token in tokens\n",
        "                     if token.lower() not in stop]\n",
        "  filtered_text = ' '.join(filtered_tokens)\n",
        "  return filtered_text\n",
        "\n",
        "test = \"The a again go into hell\"\n",
        "remove_stopwords(test)"
      ],
      "execution_count": 95,
      "outputs": [
        {
          "output_type": "execute_result",
          "data": {
            "text/plain": [
              "'go hell'"
            ]
          },
          "metadata": {
            "tags": []
          },
          "execution_count": 95
        }
      ]
    },
    {
      "cell_type": "code",
      "metadata": {
        "id": "817D110KKW9z",
        "colab_type": "code",
        "colab": {}
      },
      "source": [
        "df_train['text'] = df_train['text'].map(lambda x: remove_stopwords(x))"
      ],
      "execution_count": 0,
      "outputs": []
    },
    {
      "cell_type": "code",
      "metadata": {
        "id": "pqBLK1E7IW-e",
        "colab_type": "code",
        "colab": {}
      },
      "source": [
        "sequences = tokenizer.texts_to_sequences(df_train['text'])\n"
      ],
      "execution_count": 0,
      "outputs": []
    },
    {
      "cell_type": "code",
      "metadata": {
        "id": "tfoRgOJFbPjs",
        "colab_type": "code",
        "outputId": "9e936082-cf9b-4653-e8ef-7d956cc10426",
        "colab": {
          "base_uri": "https://localhost:8080/",
          "height": 34
        }
      },
      "source": [
        "len(tokenizer.word_index.values())"
      ],
      "execution_count": 98,
      "outputs": [
        {
          "output_type": "execute_result",
          "data": {
            "text/plain": [
              "17797"
            ]
          },
          "metadata": {
            "tags": []
          },
          "execution_count": 98
        }
      ]
    },
    {
      "cell_type": "code",
      "metadata": {
        "id": "Ggp7LTYlKolI",
        "colab_type": "code",
        "colab": {}
      },
      "source": [
        "maxlen = max([len(x) for x in sequences])\n",
        "padded_sequences = pad_sequences(sequences, maxlen = maxlen)\n",
        "labels = df_train['target'].to_list()\n"
      ],
      "execution_count": 0,
      "outputs": []
    },
    {
      "cell_type": "code",
      "metadata": {
        "id": "vWr3lM3Ndf0r",
        "colab_type": "code",
        "colab": {}
      },
      "source": [
        "df_test = pd.read_csv('test.csv')\n",
        "df_test['text'] = df_test['text'].map(lambda x: remove_urls(x))\n",
        "df_test['text'] = df_test['text'].map(lambda x: remove_emoji(x))\n",
        "df_test['text'] = df_test['text'].map(lambda x: remove_punct(x))\n",
        "df_test['text'] = df_test['text'].map(lambda x: remove_stopwords(x))\n"
      ],
      "execution_count": 0,
      "outputs": []
    },
    {
      "cell_type": "code",
      "metadata": {
        "id": "p6e5C_q-fVO7",
        "colab_type": "code",
        "colab": {}
      },
      "source": [
        "test_sequences = pad_sequences(tokenizer.texts_to_sequences(df_test['text']), maxlen = maxlen)"
      ],
      "execution_count": 0,
      "outputs": []
    },
    {
      "cell_type": "code",
      "metadata": {
        "id": "nI_Qn7COQ3ae",
        "colab_type": "code",
        "colab": {}
      },
      "source": [
        "from sklearn.model_selection import train_test_split\n",
        "x_train, x_test, y_train, y_test = train_test_split(padded_sequences, labels, test_size = 0.2, stratify = labels)\n",
        "x_train, x_test, y_train, y_test = np.array(x_train), np.array(x_test), np.array(y_train), np.array(y_test)"
      ],
      "execution_count": 0,
      "outputs": []
    },
    {
      "cell_type": "code",
      "metadata": {
        "id": "bsaPIeJTO7sh",
        "colab_type": "code",
        "colab": {}
      },
      "source": [
        "input_dim = len(tokenizer.word_index.values())\n",
        "embedding_dim = 64\n",
        "optimizer = 'adam'\n",
        "loss = 'binary_crossentropy'\n",
        "metrics = ['acc']"
      ],
      "execution_count": 0,
      "outputs": []
    },
    {
      "cell_type": "code",
      "metadata": {
        "id": "rppMpTMmRjcX",
        "colab_type": "code",
        "outputId": "7b0fb08f-a22f-4350-eb05-d11c21d9e1d9",
        "colab": {
          "base_uri": "https://localhost:8080/",
          "height": 357
        }
      },
      "source": [
        "!wget http://nlp.stanford.edu/data/glove.6B.zip"
      ],
      "execution_count": 104,
      "outputs": [
        {
          "output_type": "stream",
          "text": [
            "--2020-04-24 14:19:04--  http://nlp.stanford.edu/data/glove.6B.zip\n",
            "Resolving nlp.stanford.edu (nlp.stanford.edu)... 171.64.67.140\n",
            "Connecting to nlp.stanford.edu (nlp.stanford.edu)|171.64.67.140|:80... connected.\n",
            "HTTP request sent, awaiting response... 302 Found\n",
            "Location: https://nlp.stanford.edu/data/glove.6B.zip [following]\n",
            "--2020-04-24 14:19:05--  https://nlp.stanford.edu/data/glove.6B.zip\n",
            "Connecting to nlp.stanford.edu (nlp.stanford.edu)|171.64.67.140|:443... connected.\n",
            "HTTP request sent, awaiting response... 301 Moved Permanently\n",
            "Location: http://downloads.cs.stanford.edu/nlp/data/glove.6B.zip [following]\n",
            "--2020-04-24 14:19:05--  http://downloads.cs.stanford.edu/nlp/data/glove.6B.zip\n",
            "Resolving downloads.cs.stanford.edu (downloads.cs.stanford.edu)... 171.64.64.22\n",
            "Connecting to downloads.cs.stanford.edu (downloads.cs.stanford.edu)|171.64.64.22|:80... connected.\n",
            "HTTP request sent, awaiting response... 200 OK\n",
            "Length: 862182613 (822M) [application/zip]\n",
            "Saving to: ‘glove.6B.zip.1’\n",
            "\n",
            "glove.6B.zip.1      100%[===================>] 822.24M  2.22MB/s    in 6m 29s  \n",
            "\n",
            "2020-04-24 14:25:35 (2.11 MB/s) - ‘glove.6B.zip.1’ saved [862182613/862182613]\n",
            "\n"
          ],
          "name": "stdout"
        }
      ]
    },
    {
      "cell_type": "code",
      "metadata": {
        "id": "zk-M3i8dTUgl",
        "colab_type": "code",
        "outputId": "0a6573b4-7cff-42df-98f7-4c3156240b9f",
        "colab": {
          "base_uri": "https://localhost:8080/",
          "height": 51
        }
      },
      "source": [
        "!unzip glove.6B.zip"
      ],
      "execution_count": 105,
      "outputs": [
        {
          "output_type": "stream",
          "text": [
            "Archive:  glove.6B.zip\n",
            "replace glove.6B.50d.txt? [y]es, [n]o, [A]ll, [N]one, [r]ename: N\n"
          ],
          "name": "stdout"
        }
      ]
    },
    {
      "cell_type": "code",
      "metadata": {
        "id": "IgkW3wxQYKZU",
        "colab_type": "code",
        "outputId": "1d53103d-83c9-4082-d680-d0b19ef56fbe",
        "colab": {
          "base_uri": "https://localhost:8080/",
          "height": 204
        }
      },
      "source": [
        "!wget \"https://s3.amazonaws.com/dl4j-distribution/GoogleNews-vectors-negative300.bin.gz\""
      ],
      "execution_count": 106,
      "outputs": [
        {
          "output_type": "stream",
          "text": [
            "--2020-04-24 14:30:17--  https://s3.amazonaws.com/dl4j-distribution/GoogleNews-vectors-negative300.bin.gz\n",
            "Resolving s3.amazonaws.com (s3.amazonaws.com)... 52.216.178.253\n",
            "Connecting to s3.amazonaws.com (s3.amazonaws.com)|52.216.178.253|:443... connected.\n",
            "HTTP request sent, awaiting response... 200 OK\n",
            "Length: 1647046227 (1.5G) [application/x-gzip]\n",
            "Saving to: ‘GoogleNews-vectors-negative300.bin.gz.1’\n",
            "\n",
            "GoogleNews-vectors- 100%[===================>]   1.53G  16.5MB/s    in 98s     \n",
            "\n",
            "2020-04-24 14:31:56 (16.0 MB/s) - ‘GoogleNews-vectors-negative300.bin.gz.1’ saved [1647046227/1647046227]\n",
            "\n"
          ],
          "name": "stdout"
        }
      ]
    },
    {
      "cell_type": "code",
      "metadata": {
        "id": "G3a8GuNhZ5cH",
        "colab_type": "code",
        "outputId": "716e70ee-2bf6-433a-bac1-803767417f60",
        "colab": {
          "base_uri": "https://localhost:8080/",
          "height": 71
        }
      },
      "source": [
        "from gensim.models.keyedvectors import KeyedVectors\n",
        "word_vectors = KeyedVectors.load_word2vec_format(\n",
        "          \"GoogleNews-vectors-negative300.bin.gz\", binary = True,\n",
        "          limit = 200000\n",
        "      )\n"
      ],
      "execution_count": 107,
      "outputs": [
        {
          "output_type": "stream",
          "text": [
            "/usr/local/lib/python3.6/dist-packages/smart_open/smart_open_lib.py:253: UserWarning: This function is deprecated, use smart_open.open instead. See the migration notes for details: https://github.com/RaRe-Technologies/smart_open/blob/master/README.rst#migrating-to-the-new-open-function\n",
            "  'See the migration notes for details: %s' % _MIGRATION_NOTES_URL\n"
          ],
          "name": "stderr"
        }
      ]
    },
    {
      "cell_type": "code",
      "metadata": {
        "id": "tXE1NV8Te9Yl",
        "colab_type": "code",
        "colab": {
          "base_uri": "https://localhost:8080/",
          "height": 173
        },
        "outputId": "debe6ce7-37f7-43ec-9a8c-2c499bc1285b"
      },
      "source": [
        "!wget https://dl.fbaipublicfiles.com/fasttext/vectors-crawl/cc.en.300.bin.gz\n"
      ],
      "execution_count": 69,
      "outputs": [
        {
          "output_type": "stream",
          "text": [
            "--2020-04-24 14:00:58--  https://dl.fbaipublicfiles.com/fasttext/vectors-crawl/cc.en.300.bin.gz\n",
            "Resolving dl.fbaipublicfiles.com (dl.fbaipublicfiles.com)... 104.22.75.142, 104.22.74.142, 2606:4700:10::6816:4a8e, ...\n",
            "Connecting to dl.fbaipublicfiles.com (dl.fbaipublicfiles.com)|104.22.75.142|:443... connected.\n",
            "HTTP request sent, awaiting response... 200 OK\n",
            "Length: 4503593528 (4.2G) [application/octet-stream]\n",
            "Saving to: ‘cc.en.300.bin.gz’\n",
            "\n",
            "cc.en.300.bin.gz     74%[=============>      ]   3.11G  13.2MB/s    eta 92s    ^C\n"
          ],
          "name": "stdout"
        }
      ]
    },
    {
      "cell_type": "code",
      "metadata": {
        "id": "duAtLxqVgfGY",
        "colab_type": "code",
        "colab": {
          "base_uri": "https://localhost:8080/",
          "height": 224
        },
        "outputId": "6892afb4-e3a9-44cc-e19b-dbc6311ea929"
      },
      "source": [
        "!wget https://dl.fbaipublicfiles.com/fasttext/vectors-english/wiki-news-300d-1M.vec.zip"
      ],
      "execution_count": 70,
      "outputs": [
        {
          "output_type": "stream",
          "text": [
            "--2020-04-24 14:06:01--  https://dl.fbaipublicfiles.com/fasttext/vectors-english/wiki-news-300d-1M.vec.zip\n",
            "Resolving dl.fbaipublicfiles.com (dl.fbaipublicfiles.com)... 104.22.75.142, 104.22.74.142, 2606:4700:10::6816:4a8e, ...\n",
            "Connecting to dl.fbaipublicfiles.com (dl.fbaipublicfiles.com)|104.22.75.142|:443... connected.\n",
            "HTTP request sent, awaiting response... 200 OK\n",
            "Length: 681808098 (650M) [application/zip]\n",
            "Saving to: ‘wiki-news-300d-1M.vec.zip’\n",
            "\n",
            "wiki-news-300d-1M.v 100%[===================>] 650.22M  12.4MB/s    in 57s     \n",
            "\n",
            "2020-04-24 14:06:59 (11.4 MB/s) - ‘wiki-news-300d-1M.vec.zip’ saved [681808098/681808098]\n",
            "\n"
          ],
          "name": "stdout"
        }
      ]
    },
    {
      "cell_type": "code",
      "metadata": {
        "id": "dd92D9OZhCvF",
        "colab_type": "code",
        "colab": {
          "base_uri": "https://localhost:8080/",
          "height": 51
        },
        "outputId": "16e46f76-6e9d-47a8-c1a4-5d1c3025d0c4"
      },
      "source": [
        "!unzip wiki-news-300d-1M.vec.zip\n",
        "FILE_PATH = 'wiki-news-300d-1M.vec'"
      ],
      "execution_count": 71,
      "outputs": [
        {
          "output_type": "stream",
          "text": [
            "Archive:  wiki-news-300d-1M.vec.zip\n",
            "  inflating: wiki-news-300d-1M.vec   \n"
          ],
          "name": "stdout"
        }
      ]
    },
    {
      "cell_type": "code",
      "metadata": {
        "id": "PWfjKSPnh57X",
        "colab_type": "code",
        "colab": {
          "base_uri": "https://localhost:8080/",
          "height": 71
        },
        "outputId": "e20d7bcb-23bd-4c19-e532-fbbc6203dddc"
      },
      "source": [
        "word_vectors = KeyedVectors.load_word2vec_format(FILE_PATH)"
      ],
      "execution_count": 72,
      "outputs": [
        {
          "output_type": "stream",
          "text": [
            "/usr/local/lib/python3.6/dist-packages/smart_open/smart_open_lib.py:253: UserWarning: This function is deprecated, use smart_open.open instead. See the migration notes for details: https://github.com/RaRe-Technologies/smart_open/blob/master/README.rst#migrating-to-the-new-open-function\n",
            "  'See the migration notes for details: %s' % _MIGRATION_NOTES_URL\n"
          ],
          "name": "stderr"
        }
      ]
    },
    {
      "cell_type": "code",
      "metadata": {
        "id": "ww5yf3G5jLPI",
        "colab_type": "code",
        "colab": {}
      },
      "source": [
        "word_vectors['the']"
      ],
      "execution_count": 0,
      "outputs": []
    },
    {
      "cell_type": "markdown",
      "metadata": {
        "id": "-6Sjor-xEBWQ",
        "colab_type": "text"
      },
      "source": [
        "The following Callbacks where used during training:\n",
        "\n",
        "\n",
        "*   **EarlyStopping**: Stops the training process if the specified metric stops improving \n",
        "*   **ReduceLROnPlateau**: Reduce the learning rate when the metric has stopped improving.\n",
        "\n"
      ]
    },
    {
      "cell_type": "code",
      "metadata": {
        "id": "5d6x-ezWLzdg",
        "colab_type": "code",
        "colab": {}
      },
      "source": [
        "## BASE LINE MODEL\n",
        "from tensorflow.keras.models import Sequential\n",
        "from tensorflow.keras.layers import Flatten, Dense, Embedding, LSTM, SimpleRNN, Bidirectional, Dropout, BatchNormalization\n",
        "import os\n",
        "import tensorflow.keras \n",
        "from gensim.models.keyedvectors import KeyedVectors\n",
        "class MyModel:\n",
        "  def __init__(self):\n",
        "    pass\n",
        "  def Model(self, embedding_type = 'custom',\n",
        "            loss = 'binary_crossentropy', optimizer = 'adam', metrics = ['acc'], input_dim = 30, \n",
        "            embedding_dim = 64, tokenizer = None):\n",
        "    model = Sequential()\n",
        "    \n",
        "    if embedding_type == 'custom':\n",
        "      model.add(Embedding(input_dim + 1, embedding_dim))\n",
        "    elif embedding_type == 'glove':\n",
        "      embeddings_index = {}\n",
        "      f = open('glove.6B.100d.txt')\n",
        "      for line in f:\n",
        "        values = line.split()\n",
        "        word = values[0]\n",
        "        coefs = np.asarray(values[1:], dtype = 'float32')\n",
        "        embeddings_index[word] = coefs\n",
        "      f.close()\n",
        "      word_index = tokenizer.word_index\n",
        "      embedding_dim = 100\n",
        "      embedding_matrix = np.zeros((input_dim + 1, embedding_dim))\n",
        "      for word, i in word_index.items():\n",
        "        embedding_vector = embeddings_index.get(word) \n",
        "        if i < input_dim + 1:\n",
        "          if embedding_vector is not None:\n",
        "            embedding_matrix[i] = embedding_vector \n",
        "      model.add(Embedding(input_dim + 1, embedding_dim))\n",
        "      model.layers[0].set_weights([embedding_matrix])\n",
        "      model.layers[0].trainable = False\n",
        "    elif embedding_type == 'word2vec':\n",
        "      word_vectors = KeyedVectors.load_word2vec_format(\n",
        "          \"GoogleNews-vectors-negative300.bin.gz\", binary = True\n",
        "      )\n",
        "      word_index = tokenizer.word_index\n",
        "      embedding_dim = 300\n",
        "      embedding_matrix = np.zeros((input_dim + 1, embedding_dim))\n",
        "      for word, i in word_index.items():\n",
        "        try:\n",
        "          embedding_vector = word_vectors[word] \n",
        "        except KeyError:\n",
        "          embedding_vector = np.zeros((embedding_dim,))\n",
        "        if i < input_dim + 1:\n",
        "          if embedding_vector is not None:\n",
        "            embedding_matrix[i] = embedding_vector \n",
        "      model.add(Embedding(input_dim + 1, embedding_dim))\n",
        "      model.layers[0].set_weights([embedding_matrix])\n",
        "      model.layers[0].trainable = False\n",
        "    elif embedding_type == 'fasttext':\n",
        "      word_vectors = KeyedVectors.load_word2vec_format(FILE_PATH)\n",
        "      word_index = tokenizer.word_index\n",
        "      embedding_dim = 300\n",
        "      embedding_matrix = np.zeros((input_dim + 1, embedding_dim))\n",
        "      for word, i in word_index.items():\n",
        "        try:\n",
        "          embedding_vector = word_vectors[word] \n",
        "        except KeyError:\n",
        "          embedding_vector = np.zeros((embedding_dim,))\n",
        "        if i < input_dim + 1:\n",
        "          if embedding_vector is not None:\n",
        "            embedding_matrix[i] = embedding_vector \n",
        "      model.add(Embedding(input_dim + 1, embedding_dim))\n",
        "      model.layers[0].set_weights([embedding_matrix])\n",
        "      model.layers[0].trainable = False\n",
        "    model.add(Bidirectional(LSTM(embedding_dim, recurrent_dropout = 0.4)))\n",
        "    model.add(BatchNormalization())\n",
        "    model.add(Dense(64))\n",
        "    model.add(Dropout(0.5))\n",
        "    model.add(Dense(32))\n",
        "    model.add(Dropout(0.5))\n",
        "    model.add(Dense(1, activation = 'sigmoid'))\n",
        "    model.compile(optimizer = optimizer, loss = loss, metrics = metrics)\n",
        "    return model\n",
        "  \n",
        "  def fit(self, model, x_train, y_train, epochs = 100, batch_size = 128, validation_split = 0.2):\n",
        "    callbacks_list = [tensorflow.keras.callbacks.EarlyStopping(monitor = 'val_acc', patience = 1),\n",
        "                      tensorflow.keras.callbacks.ReduceLROnPlateau(monitor = 'val_loss', factor = 0.1, patience = 10)]\n",
        "    history = model.fit(x_train, y_train, epochs = epochs, batch_size = batch_size,\n",
        "              validation_split = validation_split, callbacks = callbacks_list)\n",
        "    return history\n",
        "  \n",
        "  def get_plots(self):\n",
        "    pass"
      ],
      "execution_count": 0,
      "outputs": []
    },
    {
      "cell_type": "code",
      "metadata": {
        "id": "MBIj50SLQ-e9",
        "colab_type": "code",
        "colab": {}
      },
      "source": [
        "# %load_ext tensorboard\n",
        "# %tensorboard --logdir log\n"
      ],
      "execution_count": 0,
      "outputs": []
    },
    {
      "cell_type": "code",
      "metadata": {
        "id": "g5w18w_TWuTW",
        "colab_type": "code",
        "outputId": "fb49929c-da3b-45d1-c994-83eaac73d192",
        "colab": {
          "base_uri": "https://localhost:8080/",
          "height": 683
        }
      },
      "source": [
        "mm = MyModel()\n",
        "model = mm.Model(embedding_type = 'glove', tokenizer = tokenizer, input_dim = len(tokenizer.word_index.values()))\n",
        "history_glove = mm.fit(model, x_train, y_train, batch_size = 128)\n",
        "model = mm.Model(embedding_type = 'custom', tokenizer = tokenizer, input_dim = len(tokenizer.word_index.values()))\n",
        "history_custom = mm.fit(model, x_train, y_train, batch_size = 128)\n",
        "model = mm.Model(embedding_type = 'word2vec', tokenizer = tokenizer, input_dim = len(tokenizer.word_index.values()))\n",
        "history_w2v = mm.fit(model, x_train, y_train, batch_size = 128)\n",
        "model = mm.Model(embedding_type = 'fasttext', tokenizer = tokenizer, input_dim = len(tokenizer.word_index.values()))\n",
        "history_fasttext = mm.fit(model, x_train, y_train, batch_size = 128)"
      ],
      "execution_count": 112,
      "outputs": [
        {
          "output_type": "stream",
          "text": [
            "Epoch 1/100\n",
            "39/39 [==============================] - 7s 171ms/step - loss: 0.7996 - acc: 0.6884 - val_loss: 0.5861 - val_acc: 0.7759 - lr: 0.0010\n",
            "Epoch 2/100\n",
            "39/39 [==============================] - 6s 159ms/step - loss: 0.5853 - acc: 0.7500 - val_loss: 0.5652 - val_acc: 0.7898 - lr: 0.0010\n",
            "Epoch 3/100\n",
            "39/39 [==============================] - 6s 159ms/step - loss: 0.5365 - acc: 0.7627 - val_loss: 0.5439 - val_acc: 0.7997 - lr: 0.0010\n",
            "Epoch 4/100\n",
            "39/39 [==============================] - 6s 159ms/step - loss: 0.5153 - acc: 0.7759 - val_loss: 0.5193 - val_acc: 0.8030 - lr: 0.0010\n",
            "Epoch 5/100\n",
            "39/39 [==============================] - 6s 158ms/step - loss: 0.4912 - acc: 0.7824 - val_loss: 0.5076 - val_acc: 0.8136 - lr: 0.0010\n",
            "Epoch 6/100\n",
            "39/39 [==============================] - 6s 158ms/step - loss: 0.4598 - acc: 0.7964 - val_loss: 0.4826 - val_acc: 0.8046 - lr: 0.0010\n",
            "Epoch 1/100\n",
            "39/39 [==============================] - 5s 128ms/step - loss: 0.6361 - acc: 0.6318 - val_loss: 0.6599 - val_acc: 0.5854 - lr: 0.0010\n",
            "Epoch 2/100\n",
            "39/39 [==============================] - 4s 113ms/step - loss: 0.3593 - acc: 0.8633 - val_loss: 0.6450 - val_acc: 0.7069 - lr: 0.0010\n",
            "Epoch 3/100\n",
            "39/39 [==============================] - 4s 114ms/step - loss: 0.1658 - acc: 0.9429 - val_loss: 0.6030 - val_acc: 0.7455 - lr: 0.0010\n",
            "Epoch 4/100\n",
            "39/39 [==============================] - 4s 113ms/step - loss: 0.0963 - acc: 0.9702 - val_loss: 0.5782 - val_acc: 0.7718 - lr: 0.0010\n",
            "Epoch 5/100\n",
            "39/39 [==============================] - 4s 115ms/step - loss: 0.0848 - acc: 0.9756 - val_loss: 0.5675 - val_acc: 0.7020 - lr: 0.0010\n"
          ],
          "name": "stdout"
        },
        {
          "output_type": "stream",
          "text": [
            "/usr/local/lib/python3.6/dist-packages/smart_open/smart_open_lib.py:253: UserWarning: This function is deprecated, use smart_open.open instead. See the migration notes for details: https://github.com/RaRe-Technologies/smart_open/blob/master/README.rst#migrating-to-the-new-open-function\n",
            "  'See the migration notes for details: %s' % _MIGRATION_NOTES_URL\n"
          ],
          "name": "stderr"
        },
        {
          "output_type": "stream",
          "text": [
            "Epoch 1/100\n",
            "39/39 [==============================] - 39s 1s/step - loss: 0.7924 - acc: 0.7151 - val_loss: 0.6267 - val_acc: 0.6765 - lr: 0.0010\n",
            "Epoch 2/100\n",
            "39/39 [==============================] - 40s 1s/step - loss: 0.6276 - acc: 0.7560 - val_loss: 0.6120 - val_acc: 0.7553 - lr: 0.0010\n",
            "Epoch 3/100\n",
            "39/39 [==============================] - 39s 997ms/step - loss: 0.5395 - acc: 0.7709 - val_loss: 0.5929 - val_acc: 0.6905 - lr: 0.0010\n",
            "Epoch 1/100\n",
            "39/39 [==============================] - 39s 1s/step - loss: 0.6843 - acc: 0.7239 - val_loss: 0.6372 - val_acc: 0.6108 - lr: 0.0010\n",
            "Epoch 2/100\n",
            "39/39 [==============================] - 38s 980ms/step - loss: 0.5793 - acc: 0.7611 - val_loss: 0.6350 - val_acc: 0.6856 - lr: 0.0010\n",
            "Epoch 3/100\n",
            "39/39 [==============================] - 38s 981ms/step - loss: 0.5345 - acc: 0.7652 - val_loss: 0.6169 - val_acc: 0.7291 - lr: 0.0010\n",
            "Epoch 4/100\n",
            "39/39 [==============================] - 38s 980ms/step - loss: 0.4772 - acc: 0.8011 - val_loss: 0.6100 - val_acc: 0.7233 - lr: 0.0010\n"
          ],
          "name": "stdout"
        }
      ]
    },
    {
      "cell_type": "code",
      "metadata": {
        "id": "aNKNcY_sjpCc",
        "colab_type": "code",
        "outputId": "90e89257-b819-4563-c725-cc92ae56b343",
        "colab": {
          "base_uri": "https://localhost:8080/",
          "height": 282
        }
      },
      "source": [
        "glove_acc = history_glove.history['val_acc'][-1]\n",
        "custom_acc = history_custom.history['val_acc'][-1]\n",
        "w2v_acc = history_w2v.history['val_acc'][-1]\n",
        "fasttext_acc = history_fasttext.history['val_acc'][-1]\n",
        "plt.bar(np.array(['glove', 'custom', 'w2v', 'fasttext']), \n",
        "        np.array([glove_acc, custom_acc, w2v_acc, fasttext_acc]), width = 0.2)"
      ],
      "execution_count": 113,
      "outputs": [
        {
          "output_type": "execute_result",
          "data": {
            "text/plain": [
              "<BarContainer object of 4 artists>"
            ]
          },
          "metadata": {
            "tags": []
          },
          "execution_count": 113
        },
        {
          "output_type": "display_data",
          "data": {
            "image/png": "[encoded data removed]",
            "text/plain": [
              "<Figure size 432x288 with 1 Axes>"
            ]
          },
          "metadata": {
            "tags": []
          }
        }
      ]
    },
    {
      "cell_type": "code",
      "metadata": {
        "id": "sbutOFyfTED3",
        "colab_type": "code",
        "outputId": "3b0dff87-115e-4757-849e-a6c918bfab86",
        "colab": {
          "base_uri": "https://localhost:8080/",
          "height": 976
        }
      },
      "source": [
        "from tensorflow.keras.utils import plot_model\n",
        "plot_model(model, to_file='model_arch.jpg', show_shapes = True)"
      ],
      "execution_count": 0,
      "outputs": [
        {
          "output_type": "execute_result",
          "data": {
            "image/jpeg": "[encoded data removed]",
            "text/plain": [
              "<IPython.core.display.Image object>"
            ]
          },
          "metadata": {
            "tags": []
          },
          "execution_count": 38
        }
      ]
    },
    {
      "cell_type": "code",
      "metadata": {
        "id": "YnjWWnTCljw1",
        "colab_type": "code",
        "colab": {}
      },
      "source": [
        "def plot_model_details(data, data_type):\n",
        "  fig, (ax1, ax2) = plt.subplots(1, 2, sharex = True, sharey = True, figsize = (10, 5))\n",
        "  acc = data['acc']\n",
        "  val_acc = data['val_acc']\n",
        "  loss = data['loss']\n",
        "  val_loss = data['val_loss']\n",
        "  epochs = range(1, len(acc) + 1)\n",
        "  \n",
        "  ax1.plot(epochs, acc, 'b', label = 'accuracy')\n",
        "  ax1.plot(epochs, val_acc, 'b', label = 'validation accuracy', color = 'red')\n",
        "  ax1.legend()\n",
        "  ax2.plot(epochs, loss, 'b', label = 'loss')\n",
        "  ax2.plot(epochs, val_loss, 'b', label = 'validation loss', color = 'red')\n",
        "  ax2.legend()\n",
        "  fig.suptitle(data_type)\n",
        "  fig.savefig('modelresults' + '_' + data_type +'.jpg')"
      ],
      "execution_count": 0,
      "outputs": []
    },
    {
      "cell_type": "markdown",
      "metadata": {
        "id": "0U2AqRwND0Ga",
        "colab_type": "text"
      },
      "source": [
        "The plots:\n",
        "\n",
        "\n",
        "*   Plot of Validation Accuracy & Training Accuracy\n",
        "*   Plot of Validation Loss & Training Loss\n",
        "\n"
      ]
    },
    {
      "cell_type": "code",
      "metadata": {
        "id": "CHlQJGSL79I4",
        "colab_type": "code",
        "outputId": "0a61a53b-ccdb-4cec-d26b-403c14865ad1",
        "colab": {
          "base_uri": "https://localhost:8080/",
          "height": 1000
        }
      },
      "source": [
        "data_glove = history_glove.history\n",
        "data_custom = history_custom.history\n",
        "data_w2v = history_w2v.history\n",
        "data_ft = history_fasttext.history\n",
        "plot_model_details(data_glove, 'glove')\n",
        "plot_model_details(data_custom, 'custom')\n",
        "plot_model_details(data_w2v, 'word2vec')\n",
        "plot_model_details(data_ft, 'fasttext')"
      ],
      "execution_count": 116,
      "outputs": [
        {
          "output_type": "display_data",
          "data": {
            "image/png": "[encoded data removed]",
            "text/plain": [
              "<Figure size 720x360 with 2 Axes>"
            ]
          },
          "metadata": {
            "tags": []
          }
        },
        {
          "output_type": "display_data",
          "data": {
            "image/png": "[encoded data removed]",
            "text/plain": [
              "<Figure size 720x360 with 2 Axes>"
            ]
          },
          "metadata": {
            "tags": []
          }
        },
        {
          "output_type": "display_data",
          "data": {
            "image/png": "[encoded data removed]",
            "text/plain": [
              "<Figure size 720x360 with 2 Axes>"
            ]
          },
          "metadata": {
            "tags": []
          }
        },
        {
          "output_type": "display_data",
          "data": {
            "image/png": "[encoded data removed]",
            "text/plain": [
              "<Figure size 720x360 with 2 Axes>"
            ]
          },
          "metadata": {
            "tags": []
          }
        }
      ]
    },
    {
      "cell_type": "code",
      "metadata": {
        "id": "rOkiqeRkVmp7",
        "colab_type": "code",
        "outputId": "7c941c33-18b8-4a6a-a8c1-120243254593",
        "colab": {
          "base_uri": "https://localhost:8080/",
          "height": 306
        }
      },
      "source": [
        "history_w2v.history"
      ],
      "execution_count": 0,
      "outputs": [
        {
          "output_type": "execute_result",
          "data": {
            "text/plain": [
              "{'acc': [0.7149015069007874,\n",
              "  0.7653940916061401,\n",
              "  0.7883825898170471,\n",
              "  0.7935139536857605],\n",
              " 'loss': [0.7385029196739197,\n",
              "  0.5723708868026733,\n",
              "  0.5349776744842529,\n",
              "  0.49543410539627075],\n",
              " 'lr': [0.001, 0.001, 0.001, 0.001],\n",
              " 'val_acc': [0.6765188574790955,\n",
              "  0.7495895028114319,\n",
              "  0.7594417333602905,\n",
              "  0.7233169078826904],\n",
              " 'val_loss': [0.6283449530601501,\n",
              "  0.6131166219711304,\n",
              "  0.594690203666687,\n",
              "  0.5824085474014282]}"
            ]
          },
          "metadata": {
            "tags": []
          },
          "execution_count": 45
        }
      ]
    },
    {
      "cell_type": "code",
      "metadata": {
        "id": "bLbBoFercaDN",
        "colab_type": "code",
        "colab": {}
      },
      "source": [
        "preds = model.predict(test_sequences)\n",
        "preds = np.array(preds).ravel()\n",
        "preds_binary = np.where(preds >= 0.5, 1, 0)"
      ],
      "execution_count": 0,
      "outputs": []
    },
    {
      "cell_type": "code",
      "metadata": {
        "id": "0CAkSFnkfrrZ",
        "colab_type": "code",
        "colab": {}
      },
      "source": [
        "submission_df = pd.DataFrame({'id':df_test['id'], 'target':preds_binary})\n",
        "submission_df.to_csv('submission_1.csv', index = False)"
      ],
      "execution_count": 0,
      "outputs": []
    }
  ]
}