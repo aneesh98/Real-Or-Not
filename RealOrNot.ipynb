{
  "nbformat": 4,
  "nbformat_minor": 0,
  "metadata": {
    "colab": {
      "name": "RealOrNot.ipynb",
      "provenance": [],
      "authorship_tag": "ABX9TyOyJX6Yr0hTMSYKX4WMBOBB",
      "include_colab_link": true
    },
    "kernelspec": {
      "name": "python3",
      "display_name": "Python 3"
    }
  },
  "cells": [
    {
      "cell_type": "markdown",
      "metadata": {
        "id": "view-in-github",
        "colab_type": "text"
      },
      "source": [
        "<a href=\"https://colab.research.google.com/github/aneesh98/Real-Or-Not/blob/master/RealOrNot.ipynb\" target=\"_parent\"><img src=\"https://colab.research.google.com/assets/colab-badge.svg\" alt=\"Open In Colab\"/></a>"
      ]
    },
    {
      "cell_type": "code",
      "metadata": {
        "id": "mzPtfoHrikAv",
        "colab_type": "code",
        "outputId": "9eb27d83-bc35-4faf-dc73-634a4acf93ea",
        "colab": {
          "base_uri": "https://localhost:8080/",
          "height": 122
        }
      },
      "source": [
        "!chmod +x kagglesetup.sh\n",
        "!./kagglesetup.sh c nlp-getting-started"
      ],
      "execution_count": 71,
      "outputs": [
        {
          "output_type": "stream",
          "text": [
            "Warning: Your Kaggle API key is readable by other users on this system! To fix this, you can run 'chmod 600 /root/.kaggle/kaggle.json'\n",
            "Warning: Looks like you're using an outdated API Version, please consider updating (server 1.5.6 / client 1.5.4)\n",
            "train.csv: Skipping, found more recently modified local copy (use --force to force download)\n",
            "sample_submission.csv: Skipping, found more recently modified local copy (use --force to force download)\n",
            "test.csv: Skipping, found more recently modified local copy (use --force to force download)\n"
          ],
          "name": "stdout"
        }
      ]
    },
    {
      "cell_type": "code",
      "metadata": {
        "id": "1AYM7Hjz3Lwm",
        "colab_type": "code",
        "outputId": "b46c89be-1076-477c-c9f4-757b2d1f38ae",
        "colab": {
          "base_uri": "https://localhost:8080/",
          "height": 102
        }
      },
      "source": [
        "import pandas as pd\n",
        "import numpy as np\n",
        "import tensorflow as tf\n",
        "import nltk\n",
        "nltk.download('averaged_perceptron_tagger')"
      ],
      "execution_count": 72,
      "outputs": [
        {
          "output_type": "stream",
          "text": [
            "[nltk_data] Downloading package averaged_perceptron_tagger to\n",
            "[nltk_data]     /root/nltk_data...\n",
            "[nltk_data]   Package averaged_perceptron_tagger is already up-to-\n",
            "[nltk_data]       date!\n"
          ],
          "name": "stdout"
        },
        {
          "output_type": "execute_result",
          "data": {
            "text/plain": [
              "True"
            ]
          },
          "metadata": {
            "tags": []
          },
          "execution_count": 72
        }
      ]
    },
    {
      "cell_type": "code",
      "metadata": {
        "id": "I4AanRS1iP1F",
        "colab_type": "code",
        "outputId": "2d75574a-0dd0-4d0a-96e9-2b746f9fd8a7",
        "colab": {
          "base_uri": "https://localhost:8080/",
          "height": 119
        }
      },
      "source": [
        "train_file_name = 'train.csv'\n",
        "df_train = pd.read_csv(train_file_name)\n",
        "train_column_names = df_train.columns.values\n",
        "print(df_train['keyword'].isnull().value_counts())\n",
        "print(df_train['location'].isnull().value_counts())\n"
      ],
      "execution_count": 73,
      "outputs": [
        {
          "output_type": "stream",
          "text": [
            "False    7552\n",
            "True       61\n",
            "Name: keyword, dtype: int64\n",
            "False    5080\n",
            "True     2533\n",
            "Name: location, dtype: int64\n"
          ],
          "name": "stdout"
        }
      ]
    },
    {
      "cell_type": "code",
      "metadata": {
        "id": "Z5WlYORXJe_K",
        "colab_type": "code",
        "outputId": "94e58e13-ddae-4df0-baa1-d9e8a8258655",
        "colab": {
          "base_uri": "https://localhost:8080/",
          "height": 419
        }
      },
      "source": [
        "df_train[~(df_train['location'].isnull())]"
      ],
      "execution_count": 74,
      "outputs": [
        {
          "output_type": "execute_result",
          "data": {
            "text/html": [
              "<div>\n",
              "<style scoped>\n",
              "    .dataframe tbody tr th:only-of-type {\n",
              "        vertical-align: middle;\n",
              "    }\n",
              "\n",
              "    .dataframe tbody tr th {\n",
              "        vertical-align: top;\n",
              "    }\n",
              "\n",
              "    .dataframe thead th {\n",
              "        text-align: right;\n",
              "    }\n",
              "</style>\n",
              "<table border=\"1\" class=\"dataframe\">\n",
              "  <thead>\n",
              "    <tr style=\"text-align: right;\">\n",
              "      <th></th>\n",
              "      <th>id</th>\n",
              "      <th>keyword</th>\n",
              "      <th>location</th>\n",
              "      <th>text</th>\n",
              "      <th>target</th>\n",
              "    </tr>\n",
              "  </thead>\n",
              "  <tbody>\n",
              "    <tr>\n",
              "      <th>31</th>\n",
              "      <td>48</td>\n",
              "      <td>ablaze</td>\n",
              "      <td>Birmingham</td>\n",
              "      <td>@bbcmtd Wholesale Markets ablaze http://t.co/l...</td>\n",
              "      <td>1</td>\n",
              "    </tr>\n",
              "    <tr>\n",
              "      <th>32</th>\n",
              "      <td>49</td>\n",
              "      <td>ablaze</td>\n",
              "      <td>Est. September 2012 - Bristol</td>\n",
              "      <td>We always try to bring the heavy. #metal #RT h...</td>\n",
              "      <td>0</td>\n",
              "    </tr>\n",
              "    <tr>\n",
              "      <th>33</th>\n",
              "      <td>50</td>\n",
              "      <td>ablaze</td>\n",
              "      <td>AFRICA</td>\n",
              "      <td>#AFRICANBAZE: Breaking news:Nigeria flag set a...</td>\n",
              "      <td>1</td>\n",
              "    </tr>\n",
              "    <tr>\n",
              "      <th>34</th>\n",
              "      <td>52</td>\n",
              "      <td>ablaze</td>\n",
              "      <td>Philadelphia, PA</td>\n",
              "      <td>Crying out for more! Set me ablaze</td>\n",
              "      <td>0</td>\n",
              "    </tr>\n",
              "    <tr>\n",
              "      <th>35</th>\n",
              "      <td>53</td>\n",
              "      <td>ablaze</td>\n",
              "      <td>London, UK</td>\n",
              "      <td>On plus side LOOK AT THE SKY LAST NIGHT IT WAS...</td>\n",
              "      <td>0</td>\n",
              "    </tr>\n",
              "    <tr>\n",
              "      <th>...</th>\n",
              "      <td>...</td>\n",
              "      <td>...</td>\n",
              "      <td>...</td>\n",
              "      <td>...</td>\n",
              "      <td>...</td>\n",
              "    </tr>\n",
              "    <tr>\n",
              "      <th>7575</th>\n",
              "      <td>10826</td>\n",
              "      <td>wrecked</td>\n",
              "      <td>TN</td>\n",
              "      <td>On the bright side I wrecked http://t.co/uEa0t...</td>\n",
              "      <td>0</td>\n",
              "    </tr>\n",
              "    <tr>\n",
              "      <th>7577</th>\n",
              "      <td>10829</td>\n",
              "      <td>wrecked</td>\n",
              "      <td>#NewcastleuponTyne #UK</td>\n",
              "      <td>@widda16 ... He's gone. You can relax. I thoug...</td>\n",
              "      <td>0</td>\n",
              "    </tr>\n",
              "    <tr>\n",
              "      <th>7579</th>\n",
              "      <td>10831</td>\n",
              "      <td>wrecked</td>\n",
              "      <td>Vancouver, Canada</td>\n",
              "      <td>Three days off from work and they've pretty mu...</td>\n",
              "      <td>0</td>\n",
              "    </tr>\n",
              "    <tr>\n",
              "      <th>7580</th>\n",
              "      <td>10832</td>\n",
              "      <td>wrecked</td>\n",
              "      <td>London</td>\n",
              "      <td>#FX #forex #trading Cramer: Iger's 3 words tha...</td>\n",
              "      <td>0</td>\n",
              "    </tr>\n",
              "    <tr>\n",
              "      <th>7581</th>\n",
              "      <td>10833</td>\n",
              "      <td>wrecked</td>\n",
              "      <td>Lincoln</td>\n",
              "      <td>@engineshed Great atmosphere at the British Li...</td>\n",
              "      <td>0</td>\n",
              "    </tr>\n",
              "  </tbody>\n",
              "</table>\n",
              "<p>5080 rows × 5 columns</p>\n",
              "</div>"
            ],
            "text/plain": [
              "         id  keyword  ...                                               text target\n",
              "31       48   ablaze  ...  @bbcmtd Wholesale Markets ablaze http://t.co/l...      1\n",
              "32       49   ablaze  ...  We always try to bring the heavy. #metal #RT h...      0\n",
              "33       50   ablaze  ...  #AFRICANBAZE: Breaking news:Nigeria flag set a...      1\n",
              "34       52   ablaze  ...                 Crying out for more! Set me ablaze      0\n",
              "35       53   ablaze  ...  On plus side LOOK AT THE SKY LAST NIGHT IT WAS...      0\n",
              "...     ...      ...  ...                                                ...    ...\n",
              "7575  10826  wrecked  ...  On the bright side I wrecked http://t.co/uEa0t...      0\n",
              "7577  10829  wrecked  ...  @widda16 ... He's gone. You can relax. I thoug...      0\n",
              "7579  10831  wrecked  ...  Three days off from work and they've pretty mu...      0\n",
              "7580  10832  wrecked  ...  #FX #forex #trading Cramer: Iger's 3 words tha...      0\n",
              "7581  10833  wrecked  ...  @engineshed Great atmosphere at the British Li...      0\n",
              "\n",
              "[5080 rows x 5 columns]"
            ]
          },
          "metadata": {
            "tags": []
          },
          "execution_count": 74
        }
      ]
    },
    {
      "cell_type": "code",
      "metadata": {
        "id": "INk7tVaWJ8fy",
        "colab_type": "code",
        "outputId": "3c4aa42a-277f-4aa6-db0d-05acd697202c",
        "colab": {
          "base_uri": "https://localhost:8080/",
          "height": 354
        }
      },
      "source": [
        "import matplotlib.pyplot as plt\n",
        "plt.style.use('ggplot')\n",
        "actual_disasters = df_train.loc[df_train['target'] == 1, 'text']\n",
        "not_disasters = df_train.loc[df_train['target'] == 0, 'text']\n",
        "fig, (ax1, ax2) = plt.subplots(1, 2, figsize = (10, 5))\n",
        "num_words_ad = actual_disasters.str.len()\n",
        "ax1.hist(num_words_ad, color = 'red')\n",
        "ax1.set_title('Disaster Tweets')\n",
        "num_words_nd = not_disasters.str.len()\n",
        "ax2.hist(num_words_nd, color = 'yellow')\n",
        "ax2.set_title('Non Disaster Tweets')"
      ],
      "execution_count": 75,
      "outputs": [
        {
          "output_type": "execute_result",
          "data": {
            "text/plain": [
              "Text(0.5, 1.0, 'Non Disaster Tweets')"
            ]
          },
          "metadata": {
            "tags": []
          },
          "execution_count": 75
        },
        {
          "output_type": "display_data",
          "data": {
            "image/png": "[encoded data removed]",
            "text/plain": [
              "<Figure size 720x360 with 2 Axes>"
            ]
          },
          "metadata": {
            "tags": []
          }
        }
      ]
    },
    {
      "cell_type": "code",
      "metadata": {
        "id": "c9bW6RO32xAQ",
        "colab_type": "code",
        "outputId": "11a99c02-51d4-4879-c470-dc04e04fa6a9",
        "colab": {
          "base_uri": "https://localhost:8080/",
          "height": 367
        }
      },
      "source": [
        "nltk.download('punkt')\n",
        "default_st = nltk.word_tokenize\n",
        "tokenized_tweets = df_train['text'].map(lambda x: x.split()).map(lambda x: len(x))\n",
        "plt.hist(tokenized_tweets)"
      ],
      "execution_count": 76,
      "outputs": [
        {
          "output_type": "stream",
          "text": [
            "[nltk_data] Downloading package punkt to /root/nltk_data...\n",
            "[nltk_data]   Package punkt is already up-to-date!\n"
          ],
          "name": "stdout"
        },
        {
          "output_type": "execute_result",
          "data": {
            "text/plain": [
              "(array([ 117.,  460.,  898., 1246., 1320., 1439., 1095.,  688.,  287.,\n",
              "          63.]),\n",
              " array([ 1.,  4.,  7., 10., 13., 16., 19., 22., 25., 28., 31.]),\n",
              " <a list of 10 Patch objects>)"
            ]
          },
          "metadata": {
            "tags": []
          },
          "execution_count": 76
        },
        {
          "output_type": "display_data",
          "data": {
            "image/png": "[encoded data removed]",
            "text/plain": [
              "<Figure size 432x288 with 1 Axes>"
            ]
          },
          "metadata": {
            "tags": []
          }
        }
      ]
    },
    {
      "cell_type": "code",
      "metadata": {
        "id": "WmNbUsITsIkE",
        "colab_type": "code",
        "outputId": "7886f1bc-561a-41fd-ab5d-f3c41d840855",
        "colab": {
          "base_uri": "https://localhost:8080/",
          "height": 54
        }
      },
      "source": [
        "first_text = actual_disasters[0]\n",
        "import nltk\n",
        "try:\n",
        "  print(nltk.pos_tag(first_text.split()))\n",
        "except LookupError:\n",
        "  nltk.download('averaged_perceptron_tagger')\n",
        "  print(nltk.pos_tag(first_text.split()))"
      ],
      "execution_count": 77,
      "outputs": [
        {
          "output_type": "stream",
          "text": [
            "[('Our', 'PRP$'), ('Deeds', 'NNS'), ('are', 'VBP'), ('the', 'DT'), ('Reason', 'NNP'), ('of', 'IN'), ('this', 'DT'), ('#earthquake', 'NN'), ('May', 'NNP'), ('ALLAH', 'NNP'), ('Forgive', 'NNP'), ('us', 'PRP'), ('all', 'DT')]\n"
          ],
          "name": "stdout"
        }
      ]
    },
    {
      "cell_type": "code",
      "metadata": {
        "id": "uDmjgXw5gIUr",
        "colab_type": "code",
        "outputId": "b18ef5cb-aee5-4989-e386-65a02f6ba704",
        "colab": {
          "base_uri": "https://localhost:8080/",
          "height": 221
        }
      },
      "source": [
        "pos_tagged_sent = nltk.pos_tag(first_text.split())\n",
        "grammar = '''\n",
        "            NP: {<DT>?<JJ>?<NN.*>}\n",
        "            ADJP: {<JJ>}\n",
        "            ADVP: {<RB.*>}\n",
        "            PP: {<IN>}\n",
        "            VP: {<MD>?<VB.*>+}\n",
        "          '''\n",
        "rp = nltk.RegexpParser(grammar)\n",
        "shallow_parsed_sent = rp.parse(pos_tagged_sent)\n",
        "print(shallow_parsed_sent)"
      ],
      "execution_count": 78,
      "outputs": [
        {
          "output_type": "stream",
          "text": [
            "(S\n",
            "  Our/PRP$\n",
            "  (NP Deeds/NNS)\n",
            "  (VP are/VBP)\n",
            "  (NP the/DT Reason/NNP)\n",
            "  (PP of/IN)\n",
            "  (NP this/DT #earthquake/NN)\n",
            "  (NP May/NNP)\n",
            "  (NP ALLAH/NNP)\n",
            "  (NP Forgive/NNP)\n",
            "  us/PRP\n",
            "  all/DT)\n"
          ],
          "name": "stdout"
        }
      ]
    },
    {
      "cell_type": "code",
      "metadata": {
        "id": "Bw9Dl5j3Q53t",
        "colab_type": "code",
        "colab": {}
      },
      "source": [
        ""
      ],
      "execution_count": 0,
      "outputs": []
    },
    {
      "cell_type": "code",
      "metadata": {
        "id": "bucbaTwn5Db5",
        "colab_type": "code",
        "outputId": "97e409b8-51c4-4801-fe60-f77151b12d6a",
        "colab": {
          "base_uri": "https://localhost:8080/",
          "height": 34
        }
      },
      "source": [
        "import string\n",
        "from collections import defaultdict\n",
        "\n",
        "special_chars = string.punctuation\n",
        "actual_disasters_list = actual_disasters.to_list()\n",
        "not_disasters_list = not_disasters.to_list()\n",
        "all_texts = actual_disasters_list + not_disasters_list\n",
        "all_texts = [x.split() for x in all_texts]\n",
        "len(all_texts), len(actual_disasters_list) + len(not_disasters_list)"
      ],
      "execution_count": 79,
      "outputs": [
        {
          "output_type": "execute_result",
          "data": {
            "text/plain": [
              "(7613, 7613)"
            ]
          },
          "metadata": {
            "tags": []
          },
          "execution_count": 79
        }
      ]
    },
    {
      "cell_type": "code",
      "metadata": {
        "id": "_fchpiJw6bvX",
        "colab_type": "code",
        "colab": {}
      },
      "source": [
        " def get_dict(lists):\n",
        "  dic = defaultdict(int)\n",
        "  for j in lists:\n",
        "    for i in j:\n",
        "      if i in special_chars:\n",
        "        dic[i] += 1\n",
        "  return dic"
      ],
      "execution_count": 0,
      "outputs": []
    },
    {
      "cell_type": "code",
      "metadata": {
        "id": "Bq3gyDjG7S6p",
        "colab_type": "code",
        "outputId": "928be1bd-5d20-45f5-e0d4-d4aa025f0c7f",
        "colab": {
          "base_uri": "https://localhost:8080/",
          "height": 283
        }
      },
      "source": [
        "dic_ad = get_dict(actual_disasters)\n",
        "dic_nd = get_dict(not_disasters)\n",
        "x_ad, y_ad = zip(*dic_ad.items())\n",
        "plt.bar(x_ad, y_ad, color = 'red')\n"
      ],
      "execution_count": 81,
      "outputs": [
        {
          "output_type": "execute_result",
          "data": {
            "text/plain": [
              "<BarContainer object of 29 artists>"
            ]
          },
          "metadata": {
            "tags": []
          },
          "execution_count": 81
        },
        {
          "output_type": "display_data",
          "data": {
            "image/png": "[encoded data removed]",
            "text/plain": [
              "<Figure size 432x288 with 1 Axes>"
            ]
          },
          "metadata": {
            "tags": []
          }
        }
      ]
    },
    {
      "cell_type": "code",
      "metadata": {
        "id": "pFJaLJaQDSxm",
        "colab_type": "code",
        "outputId": "0252d21e-49b0-4b01-add5-2d069e7899c0",
        "colab": {
          "base_uri": "https://localhost:8080/",
          "height": 34
        }
      },
      "source": [
        "import re \n",
        "string = 'Go To https://www.mysite.com'\n",
        "pattern = 'https://\\S+|www\\.\\S+'\n",
        "res = re.sub(pattern, '', string, re.IGNORECASE)\n",
        "print(res)"
      ],
      "execution_count": 82,
      "outputs": [
        {
          "output_type": "stream",
          "text": [
            "Go To \n"
          ],
          "name": "stdout"
        }
      ]
    },
    {
      "cell_type": "code",
      "metadata": {
        "id": "w69k6Z30P_jX",
        "colab_type": "code",
        "outputId": "25970868-5cc9-462b-87db-131366c51a06",
        "colab": {
          "base_uri": "https://localhost:8080/",
          "height": 316
        }
      },
      "source": [
        "from nltk.corpus import stopwords\n",
        "nltk.download('stopwords')\n",
        "stop=set(stopwords.words('english'))\n",
        "word_count = defaultdict(int)\n",
        "for tweets in all_texts:\n",
        "  for word in tweets:\n",
        "    if word in stop:\n",
        "      word_count[word] += 1\n",
        "top=sorted(word_count.items(), key=lambda x:x[1],reverse=True)[:10]\n",
        "words, counts = zip(*top)\n",
        "plt.bar(words, counts, color = 'blue')"
      ],
      "execution_count": 83,
      "outputs": [
        {
          "output_type": "stream",
          "text": [
            "[nltk_data] Downloading package stopwords to /root/nltk_data...\n",
            "[nltk_data]   Package stopwords is already up-to-date!\n"
          ],
          "name": "stdout"
        },
        {
          "output_type": "execute_result",
          "data": {
            "text/plain": [
              "<BarContainer object of 10 artists>"
            ]
          },
          "metadata": {
            "tags": []
          },
          "execution_count": 83
        },
        {
          "output_type": "display_data",
          "data": {
            "image/png": "[encoded data removed]",
            "text/plain": [
              "<Figure size 432x288 with 1 Axes>"
            ]
          },
          "metadata": {
            "tags": []
          }
        }
      ]
    },
    {
      "cell_type": "code",
      "metadata": {
        "id": "opbcGy96B6P-",
        "colab_type": "code",
        "outputId": "d2875ba8-ed79-4f7e-8eeb-5cb0ba9e36fd",
        "colab": {
          "base_uri": "https://localhost:8080/",
          "height": 34
        }
      },
      "source": [
        "### CHECK FOR URLS\n",
        "import re\n",
        "def check_urls(texts):\n",
        "  linked_tweets = []\n",
        "  pattern1 = 'http://\\S+|www\\.\\S+'\n",
        "  pattern2 = 'https://\\S+|www\\.\\S+'\n",
        "  for x in texts:\n",
        "    if re.search(pattern1, x, re.IGNORECASE)!=None or  re.search(pattern2, x, re.IGNORECASE) != None:\n",
        "      linked_tweets.append(x)\n",
        "  return linked_tweets\n",
        "linked_tweets = check_urls(not_disasters_list)\n",
        "print(len(linked_tweets))"
      ],
      "execution_count": 84,
      "outputs": [
        {
          "output_type": "stream",
          "text": [
            "1799\n"
          ],
          "name": "stdout"
        }
      ]
    },
    {
      "cell_type": "code",
      "metadata": {
        "id": "YTzuFZ4UNnfk",
        "colab_type": "code",
        "outputId": "26a7043c-39b5-4c70-a1f8-f128f1cecded",
        "colab": {
          "base_uri": "https://localhost:8080/",
          "height": 34
        }
      },
      "source": [
        "pattern = r\"<.*>\"\n",
        "linked_tweets = []\n",
        "for x in actual_disasters_list:\n",
        "  if re.search(pattern, x, re.IGNORECASE)!=None:\n",
        "    linked_tweets.append(x)\n",
        "print(len(linked_tweets))"
      ],
      "execution_count": 85,
      "outputs": [
        {
          "output_type": "stream",
          "text": [
            "0\n"
          ],
          "name": "stdout"
        }
      ]
    },
    {
      "cell_type": "code",
      "metadata": {
        "id": "WpTgrpcyH89Y",
        "colab_type": "code",
        "outputId": "d505df52-b975-4e02-ac1c-4878dd2d0f9a",
        "colab": {
          "base_uri": "https://localhost:8080/",
          "height": 34
        }
      },
      "source": [
        "### REMOVE URLS ###\n",
        "def remove_urls(x):\n",
        "  pattern1 = r'http?://\\S+|www\\.\\S+'\n",
        "  pattern2 = r'https?://\\S+|www\\.\\S+'\n",
        "  res = re.sub(pattern1, '', x, re.IGNORECASE)\n",
        "  res = re.sub(pattern2, '', x, re.IGNORECASE)\n",
        "  return res\n",
        "\n",
        "df_train['text'] = df_train['text'].map(lambda x: remove_urls(x))\n",
        "linked_tweets = check_urls(df_train['text'].to_list())\n",
        "print(len(linked_tweets))\n",
        "### REMOVE HTML TAGS ###\n",
        "def remove_tags(x):\n",
        "  pass"
      ],
      "execution_count": 86,
      "outputs": [
        {
          "output_type": "stream",
          "text": [
            "25\n"
          ],
          "name": "stdout"
        }
      ]
    },
    {
      "cell_type": "code",
      "metadata": {
        "id": "h3MUl3UQU1a7",
        "colab_type": "code",
        "outputId": "29365538-464a-4425-91ce-718b9f44b5a9",
        "colab": {
          "base_uri": "https://localhost:8080/",
          "height": 34
        }
      },
      "source": [
        "def remove_emoji(text):\n",
        "    emoji_pattern = re.compile(\"[\"\n",
        "                           u\"\\U0001F600-\\U0001F64F\"  # emoticons\n",
        "                           u\"\\U0001F300-\\U0001F5FF\"  # symbols & pictographs\n",
        "                           u\"\\U0001F680-\\U0001F6FF\"  # transport & map symbols\n",
        "                           u\"\\U0001F1E0-\\U0001F1FF\"  # flags (iOS)\n",
        "                           u\"\\U00002702-\\U000027B0\"\n",
        "                           u\"\\U000024C2-\\U0001F251\"\n",
        "                           \"]+\", flags=re.UNICODE)\n",
        "    return emoji_pattern.sub(r'', text)\n",
        "\n",
        "remove_emoji(\"Omg another Earthquake 😔😔\")"
      ],
      "execution_count": 87,
      "outputs": [
        {
          "output_type": "execute_result",
          "data": {
            "text/plain": [
              "'Omg another Earthquake '"
            ]
          },
          "metadata": {
            "tags": []
          },
          "execution_count": 87
        }
      ]
    },
    {
      "cell_type": "code",
      "metadata": {
        "id": "LSBahOVIvSEE",
        "colab_type": "code",
        "colab": {}
      },
      "source": [
        "df_train['text']=df_train['text'].apply(lambda x: remove_emoji(x))"
      ],
      "execution_count": 0,
      "outputs": []
    },
    {
      "cell_type": "code",
      "metadata": {
        "id": "cZzMVQFavViu",
        "colab_type": "code",
        "colab": {}
      },
      "source": [
        "def remove_punct(text):\n",
        "  pattern = r'[^a-zA-Z0-9\\s]'\n",
        "  text = re.sub(pattern, '', text)\n",
        "  return text\n",
        "\n",
        "df_train['text'] = df_train['text'].map(lambda x: \n",
        "                                        remove_punct(x))"
      ],
      "execution_count": 0,
      "outputs": []
    },
    {
      "cell_type": "code",
      "metadata": {
        "id": "W-RtjZeu0QOK",
        "colab_type": "code",
        "colab": {}
      },
      "source": [
        "dic = get_dict(df_train['text'].to_list())"
      ],
      "execution_count": 0,
      "outputs": []
    },
    {
      "cell_type": "code",
      "metadata": {
        "id": "EA2WcvhW0UhK",
        "colab_type": "code",
        "colab": {}
      },
      "source": [
        "from keras.preprocessing.text import Tokenizer\n",
        "from keras.preprocessing.sequence import pad_sequences\n",
        "tokenizer = Tokenizer()\n",
        "tokenizer.fit_on_texts(df_train['text'])\n"
      ],
      "execution_count": 0,
      "outputs": []
    },
    {
      "cell_type": "code",
      "metadata": {
        "id": "qbG9fsodInky",
        "colab_type": "code",
        "colab": {
          "base_uri": "https://localhost:8080/",
          "height": 34
        },
        "outputId": "c0452a5a-cc0f-4f91-b18e-b224170deb13"
      },
      "source": [
        "def remove_stopwords(text):\n",
        "  tokens = text.split()\n",
        "  filtered_tokens = [token for token in tokens\n",
        "                     if token.lower() not in stop]\n",
        "  filtered_text = ' '.join(filtered_tokens)\n",
        "  return filtered_text\n",
        "\n",
        "test = \"The a again go into hell\"\n",
        "remove_stopwords(test)"
      ],
      "execution_count": 92,
      "outputs": [
        {
          "output_type": "execute_result",
          "data": {
            "text/plain": [
              "'go hell'"
            ]
          },
          "metadata": {
            "tags": []
          },
          "execution_count": 92
        }
      ]
    },
    {
      "cell_type": "code",
      "metadata": {
        "id": "817D110KKW9z",
        "colab_type": "code",
        "colab": {}
      },
      "source": [
        "df_train['text'] = df_train['text'].map(lambda x: remove_stopwords(x))"
      ],
      "execution_count": 0,
      "outputs": []
    },
    {
      "cell_type": "code",
      "metadata": {
        "id": "pqBLK1E7IW-e",
        "colab_type": "code",
        "colab": {}
      },
      "source": [
        "sequences = tokenizer.texts_to_sequences(df_train['text'])\n"
      ],
      "execution_count": 0,
      "outputs": []
    },
    {
      "cell_type": "code",
      "metadata": {
        "id": "Ggp7LTYlKolI",
        "colab_type": "code",
        "colab": {}
      },
      "source": [
        "maxlen = max([len(x) for x in sequences])\n",
        "padded_sequences = pad_sequences(sequences, maxlen = maxlen)\n",
        "labels = df_train['target'].to_list()\n"
      ],
      "execution_count": 0,
      "outputs": []
    },
    {
      "cell_type": "code",
      "metadata": {
        "id": "nI_Qn7COQ3ae",
        "colab_type": "code",
        "colab": {}
      },
      "source": [
        "from sklearn.model_selection import train_test_split\n",
        "x_train, x_test, y_train, y_test = train_test_split(padded_sequences, labels, test_size = 0.2)\n",
        "x_train, x_test, y_train, y_test = np.array(x_train), np.array(x_test), np.array(y_train), np.array(y_test)"
      ],
      "execution_count": 0,
      "outputs": []
    },
    {
      "cell_type": "code",
      "metadata": {
        "id": "bsaPIeJTO7sh",
        "colab_type": "code",
        "colab": {}
      },
      "source": [
        "input_dim = len(tokenizer.word_index.values())\n",
        "embedding_dim = 64\n",
        "optimizer = 'adam'\n",
        "loss = 'binary_crossentropy'\n",
        "metrics = ['acc']"
      ],
      "execution_count": 0,
      "outputs": []
    },
    {
      "cell_type": "code",
      "metadata": {
        "id": "5d6x-ezWLzdg",
        "colab_type": "code",
        "colab": {
          "base_uri": "https://localhost:8080/",
          "height": 1000
        },
        "outputId": "fcb3a67c-bb4e-4c2d-e0ff-15a5712c0e6b"
      },
      "source": [
        "## BASE LINE MODEL\n",
        "from tensorflow.keras.models import Sequential\n",
        "from tensorflow.keras.layers import Flatten, Dense, Embedding, LSTM, SimpleRNN, Bidirectional, Dropout\n",
        "model = Sequential()\n",
        "model.add(Embedding(input_dim + 1, embedding_dim))\n",
        "model.add(Bidirectional(LSTM(embedding_dim, recurrent_dropout = 0.2)))\n",
        "model.add(Dense(16))\n",
        "model.add(Dropout(0.5))\n",
        "model.add(Dense(1, activation = 'sigmoid'))\n",
        "model.compile(optimizer = optimizer, loss = loss, metrics = metrics)\n",
        "\n",
        "history = model.fit(x_train, y_train, epochs = 100, batch_size = 128,\n",
        "          validation_split = 0.2)"
      ],
      "execution_count": 98,
      "outputs": [
        {
          "output_type": "stream",
          "text": [
            "Epoch 1/100\n",
            "39/39 [==============================] - 5s 127ms/step - loss: 0.6662 - acc: 0.5956 - val_loss: 0.6105 - val_acc: 0.6954\n",
            "Epoch 2/100\n",
            "39/39 [==============================] - 4s 112ms/step - loss: 0.4359 - acc: 0.8282 - val_loss: 0.4771 - val_acc: 0.7849\n",
            "Epoch 3/100\n",
            "39/39 [==============================] - 4s 113ms/step - loss: 0.1985 - acc: 0.9302 - val_loss: 0.5880 - val_acc: 0.7783\n",
            "Epoch 4/100\n",
            "39/39 [==============================] - 4s 113ms/step - loss: 0.1076 - acc: 0.9631 - val_loss: 0.7028 - val_acc: 0.7800\n",
            "Epoch 5/100\n",
            "39/39 [==============================] - 4s 113ms/step - loss: 0.0702 - acc: 0.9772 - val_loss: 0.8350 - val_acc: 0.7726\n",
            "Epoch 6/100\n",
            "39/39 [==============================] - 4s 114ms/step - loss: 0.0648 - acc: 0.9784 - val_loss: 0.9160 - val_acc: 0.7233\n",
            "Epoch 7/100\n",
            "39/39 [==============================] - 4s 113ms/step - loss: 0.0565 - acc: 0.9828 - val_loss: 0.8541 - val_acc: 0.7742\n",
            "Epoch 8/100\n",
            "39/39 [==============================] - 4s 114ms/step - loss: 0.0462 - acc: 0.9850 - val_loss: 0.7866 - val_acc: 0.7734\n",
            "Epoch 9/100\n",
            "39/39 [==============================] - 4s 113ms/step - loss: 0.0427 - acc: 0.9850 - val_loss: 0.8929 - val_acc: 0.7660\n",
            "Epoch 10/100\n",
            "39/39 [==============================] - 4s 113ms/step - loss: 0.0384 - acc: 0.9865 - val_loss: 1.0407 - val_acc: 0.7488\n",
            "Epoch 11/100\n",
            "39/39 [==============================] - 4s 114ms/step - loss: 0.0393 - acc: 0.9885 - val_loss: 1.1112 - val_acc: 0.7734\n",
            "Epoch 12/100\n",
            "39/39 [==============================] - 4s 113ms/step - loss: 0.0345 - acc: 0.9871 - val_loss: 1.0968 - val_acc: 0.7742\n",
            "Epoch 13/100\n",
            "39/39 [==============================] - 4s 113ms/step - loss: 0.0423 - acc: 0.9875 - val_loss: 1.1017 - val_acc: 0.7833\n",
            "Epoch 14/100\n",
            "39/39 [==============================] - 4s 114ms/step - loss: 0.0429 - acc: 0.9858 - val_loss: 1.2424 - val_acc: 0.7709\n",
            "Epoch 15/100\n",
            "39/39 [==============================] - 4s 114ms/step - loss: 0.0306 - acc: 0.9877 - val_loss: 1.0892 - val_acc: 0.7685\n",
            "Epoch 16/100\n",
            "39/39 [==============================] - 4s 114ms/step - loss: 0.0291 - acc: 0.9891 - val_loss: 1.1632 - val_acc: 0.7742\n",
            "Epoch 17/100\n",
            "39/39 [==============================] - 4s 114ms/step - loss: 0.0261 - acc: 0.9891 - val_loss: 1.3315 - val_acc: 0.7734\n",
            "Epoch 18/100\n",
            "39/39 [==============================] - 4s 113ms/step - loss: 0.0246 - acc: 0.9889 - val_loss: 1.3676 - val_acc: 0.7660\n",
            "Epoch 19/100\n",
            "39/39 [==============================] - 4s 113ms/step - loss: 0.0263 - acc: 0.9883 - val_loss: 1.4044 - val_acc: 0.7685\n",
            "Epoch 20/100\n",
            "39/39 [==============================] - 4s 113ms/step - loss: 0.0252 - acc: 0.9885 - val_loss: 1.3069 - val_acc: 0.7693\n",
            "Epoch 21/100\n",
            "39/39 [==============================] - 4s 114ms/step - loss: 0.0231 - acc: 0.9887 - val_loss: 1.3531 - val_acc: 0.7750\n",
            "Epoch 22/100\n",
            "39/39 [==============================] - 4s 113ms/step - loss: 0.0212 - acc: 0.9885 - val_loss: 1.4891 - val_acc: 0.7644\n",
            "Epoch 23/100\n",
            "39/39 [==============================] - 4s 113ms/step - loss: 0.0198 - acc: 0.9887 - val_loss: 1.5188 - val_acc: 0.7611\n",
            "Epoch 24/100\n",
            "39/39 [==============================] - 4s 113ms/step - loss: 0.0202 - acc: 0.9906 - val_loss: 1.5544 - val_acc: 0.7668\n",
            "Epoch 25/100\n",
            "39/39 [==============================] - 4s 114ms/step - loss: 0.0184 - acc: 0.9893 - val_loss: 1.8027 - val_acc: 0.7701\n",
            "Epoch 26/100\n",
            "39/39 [==============================] - 4s 114ms/step - loss: 0.0190 - acc: 0.9908 - val_loss: 1.7193 - val_acc: 0.7693\n",
            "Epoch 27/100\n",
            "39/39 [==============================] - 4s 113ms/step - loss: 0.0251 - acc: 0.9889 - val_loss: 1.6104 - val_acc: 0.7644\n",
            "Epoch 28/100\n",
            "39/39 [==============================] - 4s 113ms/step - loss: 0.0195 - acc: 0.9899 - val_loss: 1.6796 - val_acc: 0.7685\n",
            "Epoch 29/100\n",
            "39/39 [==============================] - 4s 112ms/step - loss: 0.0185 - acc: 0.9899 - val_loss: 1.7133 - val_acc: 0.7718\n",
            "Epoch 30/100\n",
            "39/39 [==============================] - 4s 113ms/step - loss: 0.0189 - acc: 0.9901 - val_loss: 1.7504 - val_acc: 0.7685\n",
            "Epoch 31/100\n",
            "39/39 [==============================] - 4s 113ms/step - loss: 0.0174 - acc: 0.9916 - val_loss: 2.0381 - val_acc: 0.7718\n",
            "Epoch 32/100\n",
            "39/39 [==============================] - 4s 114ms/step - loss: 0.0188 - acc: 0.9899 - val_loss: 1.7809 - val_acc: 0.7677\n",
            "Epoch 33/100\n",
            "39/39 [==============================] - 4s 113ms/step - loss: 0.0185 - acc: 0.9901 - val_loss: 1.9020 - val_acc: 0.7709\n",
            "Epoch 34/100\n",
            "39/39 [==============================] - 4s 115ms/step - loss: 0.0168 - acc: 0.9904 - val_loss: 1.9413 - val_acc: 0.7718\n",
            "Epoch 35/100\n",
            "39/39 [==============================] - 4s 112ms/step - loss: 0.0177 - acc: 0.9895 - val_loss: 1.9075 - val_acc: 0.7701\n",
            "Epoch 36/100\n",
            "39/39 [==============================] - 4s 114ms/step - loss: 0.0222 - acc: 0.9887 - val_loss: 1.6333 - val_acc: 0.7750\n",
            "Epoch 37/100\n",
            "39/39 [==============================] - 4s 114ms/step - loss: 0.0238 - acc: 0.9885 - val_loss: 1.6402 - val_acc: 0.7668\n",
            "Epoch 38/100\n",
            "39/39 [==============================] - 4s 114ms/step - loss: 0.0268 - acc: 0.9885 - val_loss: 1.2561 - val_acc: 0.7701\n",
            "Epoch 39/100\n",
            "39/39 [==============================] - 4s 114ms/step - loss: 0.0234 - acc: 0.9887 - val_loss: 1.4861 - val_acc: 0.7635\n",
            "Epoch 40/100\n",
            "39/39 [==============================] - 4s 114ms/step - loss: 0.0260 - acc: 0.9891 - val_loss: 1.4158 - val_acc: 0.7668\n",
            "Epoch 41/100\n",
            "39/39 [==============================] - 4s 114ms/step - loss: 0.0259 - acc: 0.9867 - val_loss: 1.2553 - val_acc: 0.7709\n",
            "Epoch 42/100\n",
            "39/39 [==============================] - 4s 114ms/step - loss: 0.0229 - acc: 0.9891 - val_loss: 1.4074 - val_acc: 0.7611\n",
            "Epoch 43/100\n",
            "39/39 [==============================] - 4s 115ms/step - loss: 0.0252 - acc: 0.9881 - val_loss: 1.3977 - val_acc: 0.7635\n",
            "Epoch 44/100\n",
            "39/39 [==============================] - 4s 114ms/step - loss: 0.0219 - acc: 0.9906 - val_loss: 1.6841 - val_acc: 0.7619\n",
            "Epoch 45/100\n",
            "39/39 [==============================] - 4s 114ms/step - loss: 0.0192 - acc: 0.9895 - val_loss: 1.7517 - val_acc: 0.7627\n",
            "Epoch 46/100\n",
            "39/39 [==============================] - 4s 115ms/step - loss: 0.0186 - acc: 0.9895 - val_loss: 1.8315 - val_acc: 0.7627\n",
            "Epoch 47/100\n",
            "39/39 [==============================] - 4s 115ms/step - loss: 0.0169 - acc: 0.9901 - val_loss: 1.9554 - val_acc: 0.7594\n",
            "Epoch 48/100\n",
            "39/39 [==============================] - 4s 114ms/step - loss: 0.0163 - acc: 0.9904 - val_loss: 2.0294 - val_acc: 0.7644\n",
            "Epoch 49/100\n",
            "39/39 [==============================] - 4s 113ms/step - loss: 0.0167 - acc: 0.9904 - val_loss: 2.0665 - val_acc: 0.7619\n",
            "Epoch 50/100\n",
            "39/39 [==============================] - 5s 115ms/step - loss: 0.0171 - acc: 0.9906 - val_loss: 2.0740 - val_acc: 0.7660\n",
            "Epoch 51/100\n",
            "39/39 [==============================] - 4s 115ms/step - loss: 0.0168 - acc: 0.9926 - val_loss: 2.0404 - val_acc: 0.7603\n",
            "Epoch 52/100\n",
            "39/39 [==============================] - 4s 115ms/step - loss: 0.0243 - acc: 0.9906 - val_loss: 2.0598 - val_acc: 0.7660\n",
            "Epoch 53/100\n",
            "39/39 [==============================] - 4s 114ms/step - loss: 0.0234 - acc: 0.9879 - val_loss: 1.4486 - val_acc: 0.7627\n",
            "Epoch 54/100\n",
            "39/39 [==============================] - 4s 114ms/step - loss: 0.0178 - acc: 0.9899 - val_loss: 1.6616 - val_acc: 0.7603\n",
            "Epoch 55/100\n",
            "39/39 [==============================] - 4s 114ms/step - loss: 0.0185 - acc: 0.9885 - val_loss: 1.8075 - val_acc: 0.7677\n",
            "Epoch 56/100\n",
            "39/39 [==============================] - 4s 115ms/step - loss: 0.0212 - acc: 0.9883 - val_loss: 1.6010 - val_acc: 0.7660\n",
            "Epoch 57/100\n",
            "39/39 [==============================] - 4s 115ms/step - loss: 0.0168 - acc: 0.9918 - val_loss: 1.8332 - val_acc: 0.7619\n",
            "Epoch 58/100\n",
            "39/39 [==============================] - 4s 114ms/step - loss: 0.0172 - acc: 0.9895 - val_loss: 1.7899 - val_acc: 0.7652\n",
            "Epoch 59/100\n",
            "39/39 [==============================] - 4s 115ms/step - loss: 0.0190 - acc: 0.9901 - val_loss: 1.8333 - val_acc: 0.7545\n",
            "Epoch 60/100\n",
            "39/39 [==============================] - 4s 114ms/step - loss: 0.0202 - acc: 0.9883 - val_loss: 2.0626 - val_acc: 0.7586\n",
            "Epoch 61/100\n",
            "39/39 [==============================] - 4s 114ms/step - loss: 0.0194 - acc: 0.9897 - val_loss: 1.3641 - val_acc: 0.7685\n",
            "Epoch 62/100\n",
            "39/39 [==============================] - 4s 114ms/step - loss: 0.0223 - acc: 0.9895 - val_loss: 1.8510 - val_acc: 0.7619\n",
            "Epoch 63/100\n",
            "39/39 [==============================] - 4s 114ms/step - loss: 0.0169 - acc: 0.9904 - val_loss: 1.9554 - val_acc: 0.7619\n",
            "Epoch 64/100\n",
            "39/39 [==============================] - 4s 115ms/step - loss: 0.0166 - acc: 0.9904 - val_loss: 2.0964 - val_acc: 0.7668\n",
            "Epoch 65/100\n",
            "39/39 [==============================] - 4s 115ms/step - loss: 0.0162 - acc: 0.9899 - val_loss: 2.2354 - val_acc: 0.7685\n",
            "Epoch 66/100\n",
            "39/39 [==============================] - 4s 114ms/step - loss: 0.0158 - acc: 0.9906 - val_loss: 2.3718 - val_acc: 0.7644\n",
            "Epoch 67/100\n",
            "39/39 [==============================] - 4s 115ms/step - loss: 0.0162 - acc: 0.9912 - val_loss: 2.4189 - val_acc: 0.7660\n",
            "Epoch 68/100\n",
            "39/39 [==============================] - 4s 113ms/step - loss: 0.0153 - acc: 0.9908 - val_loss: 2.4787 - val_acc: 0.7644\n",
            "Epoch 69/100\n",
            "39/39 [==============================] - 4s 114ms/step - loss: 0.0163 - acc: 0.9908 - val_loss: 2.4867 - val_acc: 0.7635\n",
            "Epoch 70/100\n",
            "39/39 [==============================] - 4s 114ms/step - loss: 0.0156 - acc: 0.9910 - val_loss: 2.5241 - val_acc: 0.7693\n",
            "Epoch 71/100\n",
            "39/39 [==============================] - 4s 114ms/step - loss: 0.0152 - acc: 0.9918 - val_loss: 2.5822 - val_acc: 0.7701\n",
            "Epoch 72/100\n",
            "39/39 [==============================] - 4s 115ms/step - loss: 0.0159 - acc: 0.9910 - val_loss: 2.5448 - val_acc: 0.7685\n",
            "Epoch 73/100\n",
            "39/39 [==============================] - 4s 115ms/step - loss: 0.0162 - acc: 0.9910 - val_loss: 2.5745 - val_acc: 0.7627\n",
            "Epoch 74/100\n",
            "39/39 [==============================] - 4s 114ms/step - loss: 0.0153 - acc: 0.9897 - val_loss: 2.6726 - val_acc: 0.7644\n",
            "Epoch 75/100\n",
            "39/39 [==============================] - 4s 114ms/step - loss: 0.0156 - acc: 0.9908 - val_loss: 2.4569 - val_acc: 0.7603\n",
            "Epoch 76/100\n",
            "39/39 [==============================] - 4s 115ms/step - loss: 0.0152 - acc: 0.9922 - val_loss: 2.6159 - val_acc: 0.7644\n",
            "Epoch 77/100\n",
            "39/39 [==============================] - 4s 115ms/step - loss: 0.0163 - acc: 0.9908 - val_loss: 2.6563 - val_acc: 0.7693\n",
            "Epoch 78/100\n",
            "39/39 [==============================] - 4s 115ms/step - loss: 0.0162 - acc: 0.9912 - val_loss: 2.3693 - val_acc: 0.7611\n",
            "Epoch 79/100\n",
            "39/39 [==============================] - 4s 114ms/step - loss: 0.0206 - acc: 0.9912 - val_loss: 1.9923 - val_acc: 0.7570\n",
            "Epoch 80/100\n",
            "39/39 [==============================] - 4s 115ms/step - loss: 0.0188 - acc: 0.9887 - val_loss: 1.6666 - val_acc: 0.7603\n",
            "Epoch 81/100\n",
            "39/39 [==============================] - 4s 114ms/step - loss: 0.0193 - acc: 0.9901 - val_loss: 2.2718 - val_acc: 0.7635\n",
            "Epoch 82/100\n",
            "39/39 [==============================] - 4s 114ms/step - loss: 0.0206 - acc: 0.9918 - val_loss: 2.0358 - val_acc: 0.7668\n",
            "Epoch 83/100\n",
            "39/39 [==============================] - 4s 115ms/step - loss: 0.0212 - acc: 0.9889 - val_loss: 1.5686 - val_acc: 0.7644\n",
            "Epoch 84/100\n",
            "39/39 [==============================] - 5s 115ms/step - loss: 0.0177 - acc: 0.9912 - val_loss: 1.6287 - val_acc: 0.7701\n",
            "Epoch 85/100\n",
            "39/39 [==============================] - 5s 116ms/step - loss: 0.0161 - acc: 0.9908 - val_loss: 2.0017 - val_acc: 0.7652\n",
            "Epoch 86/100\n",
            "39/39 [==============================] - 4s 113ms/step - loss: 0.0153 - acc: 0.9912 - val_loss: 2.1350 - val_acc: 0.7635\n",
            "Epoch 87/100\n",
            "39/39 [==============================] - 4s 115ms/step - loss: 0.0197 - acc: 0.9910 - val_loss: 2.2450 - val_acc: 0.7652\n",
            "Epoch 88/100\n",
            "39/39 [==============================] - 4s 112ms/step - loss: 0.0164 - acc: 0.9891 - val_loss: 2.3263 - val_acc: 0.7660\n",
            "Epoch 89/100\n",
            "39/39 [==============================] - 4s 114ms/step - loss: 0.0153 - acc: 0.9912 - val_loss: 2.3038 - val_acc: 0.7652\n",
            "Epoch 90/100\n",
            "39/39 [==============================] - 4s 115ms/step - loss: 0.0154 - acc: 0.9916 - val_loss: 2.4918 - val_acc: 0.7578\n",
            "Epoch 91/100\n",
            "39/39 [==============================] - 4s 115ms/step - loss: 0.0150 - acc: 0.9908 - val_loss: 2.5732 - val_acc: 0.7594\n",
            "Epoch 92/100\n",
            "39/39 [==============================] - 5s 115ms/step - loss: 0.0180 - acc: 0.9899 - val_loss: 2.5515 - val_acc: 0.7611\n",
            "Epoch 93/100\n",
            "39/39 [==============================] - 4s 115ms/step - loss: 0.0182 - acc: 0.9904 - val_loss: 2.5513 - val_acc: 0.7603\n",
            "Epoch 94/100\n",
            "39/39 [==============================] - 4s 115ms/step - loss: 0.0147 - acc: 0.9912 - val_loss: 2.5693 - val_acc: 0.7603\n",
            "Epoch 95/100\n",
            "39/39 [==============================] - 4s 114ms/step - loss: 0.0157 - acc: 0.9904 - val_loss: 2.5859 - val_acc: 0.7635\n",
            "Epoch 96/100\n",
            "39/39 [==============================] - 4s 115ms/step - loss: 0.0150 - acc: 0.9918 - val_loss: 2.6257 - val_acc: 0.7594\n",
            "Epoch 97/100\n",
            "39/39 [==============================] - 4s 114ms/step - loss: 0.0158 - acc: 0.9916 - val_loss: 2.4528 - val_acc: 0.7635\n",
            "Epoch 98/100\n",
            "39/39 [==============================] - 4s 114ms/step - loss: 0.0145 - acc: 0.9914 - val_loss: 2.6515 - val_acc: 0.7586\n",
            "Epoch 99/100\n",
            "39/39 [==============================] - 4s 114ms/step - loss: 0.0150 - acc: 0.9916 - val_loss: 2.6765 - val_acc: 0.7586\n",
            "Epoch 100/100\n",
            "39/39 [==============================] - 4s 114ms/step - loss: 0.0157 - acc: 0.9914 - val_loss: 2.6596 - val_acc: 0.7603\n"
          ],
          "name": "stdout"
        }
      ]
    },
    {
      "cell_type": "code",
      "metadata": {
        "id": "CHlQJGSL79I4",
        "colab_type": "code",
        "colab": {
          "base_uri": "https://localhost:8080/",
          "height": 513
        },
        "outputId": "c2b5e2b7-8b44-4ed5-86e7-6c6efe7542a3"
      },
      "source": [
        "data = history.history\n",
        "acc = data['acc']\n",
        "val_acc = data['val_acc']\n",
        "loss = data['loss']\n",
        "val_loss = data['val_loss']\n",
        "epochs = range(1, 101)\n",
        "plt.plot(epochs, acc, 'b', label = 'accuracy')\n",
        "plt.plot(epochs, val_acc, 'bo', label = 'validation accuracy')\n",
        "plt.legend()\n",
        "plt.show()\n",
        "plt.plot(epochs, loss, 'b', label = 'loss')\n",
        "plt.plot(epochs, val_loss, 'bo', label = 'validation loss')\n",
        "plt.legend()\n",
        "plt.show()"
      ],
      "execution_count": 65,
      "outputs": [
        {
          "output_type": "display_data",
          "data": {
            "image/png": "[encoded data removed]",
            "text/plain": [
              "<Figure size 432x288 with 1 Axes>"
            ]
          },
          "metadata": {
            "tags": []
          }
        },
        {
          "output_type": "display_data",
          "data": {
            "image/png": "[encoded data removed]",
            "text/plain": [
              "<Figure size 432x288 with 1 Axes>"
            ]
          },
          "metadata": {
            "tags": []
          }
        }
      ]
    },
    {
      "cell_type": "markdown",
      "metadata": {
        "id": "yb2FUpX-9a3r",
        "colab_type": "text"
      },
      "source": [
        "CLEARLY ITS OVERFITTING"
      ]
    }
  ]
}