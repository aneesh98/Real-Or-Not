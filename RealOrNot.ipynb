{
  "nbformat": 4,
  "nbformat_minor": 0,
  "metadata": {
    "colab": {
      "name": "RealOrNot.ipynb",
      "provenance": [],
      "authorship_tag": "ABX9TyMp4gxkqKEGlc6MGoqbYuhC",
      "include_colab_link": true
    },
    "kernelspec": {
      "name": "python3",
      "display_name": "Python 3"
    }
  },
  "cells": [
    {
      "cell_type": "markdown",
      "metadata": {
        "id": "view-in-github",
        "colab_type": "text"
      },
      "source": [
        "<a href=\"https://colab.research.google.com/github/aneesh98/Real-Or-Not/blob/master/RealOrNot.ipynb\" target=\"_parent\"><img src=\"https://colab.research.google.com/assets/colab-badge.svg\" alt=\"Open In Colab\"/></a>"
      ]
    },
    {
      "cell_type": "code",
      "metadata": {
        "id": "mzPtfoHrikAv",
        "colab_type": "code",
        "outputId": "b2d12c4a-bf8f-4313-b76b-5f85d6a06dac",
        "colab": {
          "base_uri": "https://localhost:8080/",
          "height": 289
        }
      },
      "source": [
        "!chmod +x kagglesetup.sh\n",
        "!./kagglesetup.sh c nlp-getting-started"
      ],
      "execution_count": 0,
      "outputs": [
        {
          "output_type": "stream",
          "text": [
            "Warning: Your Kaggle API key is readable by other users on this system! To fix this, you can run 'chmod 600 /root/.kaggle/kaggle.json'\n",
            "Warning: Looks like you're using an outdated API Version, please consider updating (server 1.5.6 / client 1.5.4)\n",
            "Downloading sample_submission.csv to /content\n",
            "\r  0% 0.00/22.2k [00:00<?, ?B/s]\n",
            "\r100% 22.2k/22.2k [00:00<00:00, 37.2MB/s]\n",
            "Downloading test.csv to /content\n",
            "\r  0% 0.00/411k [00:00<?, ?B/s]\n",
            "\r100% 411k/411k [00:00<00:00, 56.7MB/s]\n",
            "Downloading train.csv to /content\n",
            "\r  0% 0.00/965k [00:00<?, ?B/s]\n",
            "\r100% 965k/965k [00:00<00:00, 61.6MB/s]\n",
            "Warning: Your Kaggle API key is readable by other users on this system! To fix this, you can run 'chmod 600 /root/.kaggle/kaggle.json'\n",
            "Warning: Looks like you're using an outdated API Version, please consider updating (server 1.5.6 / client 1.5.4)\n",
            "test.csv: Skipping, found more recently modified local copy (use --force to force download)\n",
            "train.csv: Skipping, found more recently modified local copy (use --force to force download)\n",
            "sample_submission.csv: Skipping, found more recently modified local copy (use --force to force download)\n"
          ],
          "name": "stdout"
        }
      ]
    },
    {
      "cell_type": "code",
      "metadata": {
        "id": "1AYM7Hjz3Lwm",
        "colab_type": "code",
        "outputId": "90ae1596-4275-4a11-997d-6917fa457f3d",
        "colab": {
          "base_uri": "https://localhost:8080/",
          "height": 85
        }
      },
      "source": [
        "import pandas as pd\n",
        "import numpy as np\n",
        "import tensorflow as tf\n",
        "import nltk\n",
        "nltk.download('averaged_perceptron_tagger')"
      ],
      "execution_count": 0,
      "outputs": [
        {
          "output_type": "stream",
          "text": [
            "[nltk_data] Downloading package averaged_perceptron_tagger to\n",
            "[nltk_data]     /root/nltk_data...\n",
            "[nltk_data]   Unzipping taggers/averaged_perceptron_tagger.zip.\n"
          ],
          "name": "stdout"
        },
        {
          "output_type": "execute_result",
          "data": {
            "text/plain": [
              "True"
            ]
          },
          "metadata": {
            "tags": []
          },
          "execution_count": 3
        }
      ]
    },
    {
      "cell_type": "code",
      "metadata": {
        "id": "I4AanRS1iP1F",
        "colab_type": "code",
        "outputId": "e979cb4d-e9a4-4e89-9ca8-4a1b91e266a8",
        "colab": {
          "base_uri": "https://localhost:8080/",
          "height": 119
        }
      },
      "source": [
        "train_file_name = 'train.csv'\n",
        "df_train = pd.read_csv(train_file_name)\n",
        "train_column_names = df_train.columns.values\n",
        "print(df_train['keyword'].isnull().value_counts())\n",
        "print(df_train['location'].isnull().value_counts())\n"
      ],
      "execution_count": 0,
      "outputs": [
        {
          "output_type": "stream",
          "text": [
            "False    7552\n",
            "True       61\n",
            "Name: keyword, dtype: int64\n",
            "False    5080\n",
            "True     2533\n",
            "Name: location, dtype: int64\n"
          ],
          "name": "stdout"
        }
      ]
    },
    {
      "cell_type": "code",
      "metadata": {
        "id": "Z5WlYORXJe_K",
        "colab_type": "code",
        "outputId": "8f48ed7e-5c93-479f-d789-5555c33ec2cb",
        "colab": {
          "base_uri": "https://localhost:8080/",
          "height": 419
        }
      },
      "source": [
        "df_train[~(df_train['location'].isnull())]"
      ],
      "execution_count": 0,
      "outputs": [
        {
          "output_type": "execute_result",
          "data": {
            "text/html": [
              "<div>\n",
              "<style scoped>\n",
              "    .dataframe tbody tr th:only-of-type {\n",
              "        vertical-align: middle;\n",
              "    }\n",
              "\n",
              "    .dataframe tbody tr th {\n",
              "        vertical-align: top;\n",
              "    }\n",
              "\n",
              "    .dataframe thead th {\n",
              "        text-align: right;\n",
              "    }\n",
              "</style>\n",
              "<table border=\"1\" class=\"dataframe\">\n",
              "  <thead>\n",
              "    <tr style=\"text-align: right;\">\n",
              "      <th></th>\n",
              "      <th>id</th>\n",
              "      <th>keyword</th>\n",
              "      <th>location</th>\n",
              "      <th>text</th>\n",
              "      <th>target</th>\n",
              "    </tr>\n",
              "  </thead>\n",
              "  <tbody>\n",
              "    <tr>\n",
              "      <th>31</th>\n",
              "      <td>48</td>\n",
              "      <td>ablaze</td>\n",
              "      <td>Birmingham</td>\n",
              "      <td>@bbcmtd Wholesale Markets ablaze http://t.co/l...</td>\n",
              "      <td>1</td>\n",
              "    </tr>\n",
              "    <tr>\n",
              "      <th>32</th>\n",
              "      <td>49</td>\n",
              "      <td>ablaze</td>\n",
              "      <td>Est. September 2012 - Bristol</td>\n",
              "      <td>We always try to bring the heavy. #metal #RT h...</td>\n",
              "      <td>0</td>\n",
              "    </tr>\n",
              "    <tr>\n",
              "      <th>33</th>\n",
              "      <td>50</td>\n",
              "      <td>ablaze</td>\n",
              "      <td>AFRICA</td>\n",
              "      <td>#AFRICANBAZE: Breaking news:Nigeria flag set a...</td>\n",
              "      <td>1</td>\n",
              "    </tr>\n",
              "    <tr>\n",
              "      <th>34</th>\n",
              "      <td>52</td>\n",
              "      <td>ablaze</td>\n",
              "      <td>Philadelphia, PA</td>\n",
              "      <td>Crying out for more! Set me ablaze</td>\n",
              "      <td>0</td>\n",
              "    </tr>\n",
              "    <tr>\n",
              "      <th>35</th>\n",
              "      <td>53</td>\n",
              "      <td>ablaze</td>\n",
              "      <td>London, UK</td>\n",
              "      <td>On plus side LOOK AT THE SKY LAST NIGHT IT WAS...</td>\n",
              "      <td>0</td>\n",
              "    </tr>\n",
              "    <tr>\n",
              "      <th>...</th>\n",
              "      <td>...</td>\n",
              "      <td>...</td>\n",
              "      <td>...</td>\n",
              "      <td>...</td>\n",
              "      <td>...</td>\n",
              "    </tr>\n",
              "    <tr>\n",
              "      <th>7575</th>\n",
              "      <td>10826</td>\n",
              "      <td>wrecked</td>\n",
              "      <td>TN</td>\n",
              "      <td>On the bright side I wrecked http://t.co/uEa0t...</td>\n",
              "      <td>0</td>\n",
              "    </tr>\n",
              "    <tr>\n",
              "      <th>7577</th>\n",
              "      <td>10829</td>\n",
              "      <td>wrecked</td>\n",
              "      <td>#NewcastleuponTyne #UK</td>\n",
              "      <td>@widda16 ... He's gone. You can relax. I thoug...</td>\n",
              "      <td>0</td>\n",
              "    </tr>\n",
              "    <tr>\n",
              "      <th>7579</th>\n",
              "      <td>10831</td>\n",
              "      <td>wrecked</td>\n",
              "      <td>Vancouver, Canada</td>\n",
              "      <td>Three days off from work and they've pretty mu...</td>\n",
              "      <td>0</td>\n",
              "    </tr>\n",
              "    <tr>\n",
              "      <th>7580</th>\n",
              "      <td>10832</td>\n",
              "      <td>wrecked</td>\n",
              "      <td>London</td>\n",
              "      <td>#FX #forex #trading Cramer: Iger's 3 words tha...</td>\n",
              "      <td>0</td>\n",
              "    </tr>\n",
              "    <tr>\n",
              "      <th>7581</th>\n",
              "      <td>10833</td>\n",
              "      <td>wrecked</td>\n",
              "      <td>Lincoln</td>\n",
              "      <td>@engineshed Great atmosphere at the British Li...</td>\n",
              "      <td>0</td>\n",
              "    </tr>\n",
              "  </tbody>\n",
              "</table>\n",
              "<p>5080 rows × 5 columns</p>\n",
              "</div>"
            ],
            "text/plain": [
              "         id  keyword  ...                                               text target\n",
              "31       48   ablaze  ...  @bbcmtd Wholesale Markets ablaze http://t.co/l...      1\n",
              "32       49   ablaze  ...  We always try to bring the heavy. #metal #RT h...      0\n",
              "33       50   ablaze  ...  #AFRICANBAZE: Breaking news:Nigeria flag set a...      1\n",
              "34       52   ablaze  ...                 Crying out for more! Set me ablaze      0\n",
              "35       53   ablaze  ...  On plus side LOOK AT THE SKY LAST NIGHT IT WAS...      0\n",
              "...     ...      ...  ...                                                ...    ...\n",
              "7575  10826  wrecked  ...  On the bright side I wrecked http://t.co/uEa0t...      0\n",
              "7577  10829  wrecked  ...  @widda16 ... He's gone. You can relax. I thoug...      0\n",
              "7579  10831  wrecked  ...  Three days off from work and they've pretty mu...      0\n",
              "7580  10832  wrecked  ...  #FX #forex #trading Cramer: Iger's 3 words tha...      0\n",
              "7581  10833  wrecked  ...  @engineshed Great atmosphere at the British Li...      0\n",
              "\n",
              "[5080 rows x 5 columns]"
            ]
          },
          "metadata": {
            "tags": []
          },
          "execution_count": 5
        }
      ]
    },
    {
      "cell_type": "markdown",
      "metadata": {
        "id": "IoaOApjNC3kY",
        "colab_type": "text"
      },
      "source": [
        "Looking at the variation in the lengths of the tweets.\n",
        "The histogram shows most of the tweets have length of 125 words."
      ]
    },
    {
      "cell_type": "code",
      "metadata": {
        "id": "INk7tVaWJ8fy",
        "colab_type": "code",
        "outputId": "216d9313-40f9-44c2-d3a4-2fbb76e4419d",
        "colab": {
          "base_uri": "https://localhost:8080/",
          "height": 354
        }
      },
      "source": [
        "import matplotlib.pyplot as plt\n",
        "plt.style.use('ggplot')\n",
        "actual_disasters = df_train.loc[df_train['target'] == 1, 'text']\n",
        "not_disasters = df_train.loc[df_train['target'] == 0, 'text']\n",
        "fig, (ax1, ax2) = plt.subplots(1, 2, figsize = (10, 5))\n",
        "num_words_ad = actual_disasters.str.len()\n",
        "ax1.hist(num_words_ad, color = 'red')\n",
        "ax1.set_title('Disaster Tweets')\n",
        "num_words_nd = not_disasters.str.len()\n",
        "ax2.hist(num_words_nd, color = 'yellow')\n",
        "ax2.set_title('Non Disaster Tweets')"
      ],
      "execution_count": 0,
      "outputs": [
        {
          "output_type": "execute_result",
          "data": {
            "text/plain": [
              "Text(0.5, 1.0, 'Non Disaster Tweets')"
            ]
          },
          "metadata": {
            "tags": []
          },
          "execution_count": 6
        },
        {
          "output_type": "display_data",
          "data": {
            "image/png": "[encoded data removed]",
            "text/plain": [
              "<Figure size 720x360 with 2 Axes>"
            ]
          },
          "metadata": {
            "tags": []
          }
        }
      ]
    },
    {
      "cell_type": "code",
      "metadata": {
        "id": "c9bW6RO32xAQ",
        "colab_type": "code",
        "outputId": "b6db576b-3de8-4fbb-ae41-5e18ee590969",
        "colab": {
          "base_uri": "https://localhost:8080/",
          "height": 367
        }
      },
      "source": [
        "nltk.download('punkt')\n",
        "default_st = nltk.word_tokenize\n",
        "tokenized_tweets = df_train['text'].map(lambda x: x.split()).map(lambda x: len(x))\n",
        "plt.hist(tokenized_tweets)"
      ],
      "execution_count": 0,
      "outputs": [
        {
          "output_type": "stream",
          "text": [
            "[nltk_data] Downloading package punkt to /root/nltk_data...\n",
            "[nltk_data]   Unzipping tokenizers/punkt.zip.\n"
          ],
          "name": "stdout"
        },
        {
          "output_type": "execute_result",
          "data": {
            "text/plain": [
              "(array([ 117.,  460.,  898., 1246., 1320., 1439., 1095.,  688.,  287.,\n",
              "          63.]),\n",
              " array([ 1.,  4.,  7., 10., 13., 16., 19., 22., 25., 28., 31.]),\n",
              " <a list of 10 Patch objects>)"
            ]
          },
          "metadata": {
            "tags": []
          },
          "execution_count": 7
        },
        {
          "output_type": "display_data",
          "data": {
            "image/png": "[encoded data removed]",
            "text/plain": [
              "<Figure size 432x288 with 1 Axes>"
            ]
          },
          "metadata": {
            "tags": []
          }
        }
      ]
    },
    {
      "cell_type": "code",
      "metadata": {
        "id": "WmNbUsITsIkE",
        "colab_type": "code",
        "outputId": "8d56bb4c-468b-4425-a744-44d67dde16fd",
        "colab": {
          "base_uri": "https://localhost:8080/",
          "height": 54
        }
      },
      "source": [
        "first_text = actual_disasters[0]\n",
        "import nltk\n",
        "try:\n",
        "  print(nltk.pos_tag(first_text.split()))\n",
        "except LookupError:\n",
        "  nltk.download('averaged_perceptron_tagger')\n",
        "  print(nltk.pos_tag(first_text.split()))"
      ],
      "execution_count": 0,
      "outputs": [
        {
          "output_type": "stream",
          "text": [
            "[('Our', 'PRP$'), ('Deeds', 'NNS'), ('are', 'VBP'), ('the', 'DT'), ('Reason', 'NNP'), ('of', 'IN'), ('this', 'DT'), ('#earthquake', 'NN'), ('May', 'NNP'), ('ALLAH', 'NNP'), ('Forgive', 'NNP'), ('us', 'PRP'), ('all', 'DT')]\n"
          ],
          "name": "stdout"
        }
      ]
    },
    {
      "cell_type": "code",
      "metadata": {
        "id": "uDmjgXw5gIUr",
        "colab_type": "code",
        "outputId": "088c102a-3f1f-46be-b0b3-688f5b07644d",
        "colab": {
          "base_uri": "https://localhost:8080/",
          "height": 221
        }
      },
      "source": [
        "pos_tagged_sent = nltk.pos_tag(first_text.split())\n",
        "grammar = '''\n",
        "            NP: {<DT>?<JJ>?<NN.*>}\n",
        "            ADJP: {<JJ>}\n",
        "            ADVP: {<RB.*>}\n",
        "            PP: {<IN>}\n",
        "            VP: {<MD>?<VB.*>+}\n",
        "          '''\n",
        "rp = nltk.RegexpParser(grammar)\n",
        "shallow_parsed_sent = rp.parse(pos_tagged_sent)\n",
        "print(shallow_parsed_sent)"
      ],
      "execution_count": 0,
      "outputs": [
        {
          "output_type": "stream",
          "text": [
            "(S\n",
            "  Our/PRP$\n",
            "  (NP Deeds/NNS)\n",
            "  (VP are/VBP)\n",
            "  (NP the/DT Reason/NNP)\n",
            "  (PP of/IN)\n",
            "  (NP this/DT #earthquake/NN)\n",
            "  (NP May/NNP)\n",
            "  (NP ALLAH/NNP)\n",
            "  (NP Forgive/NNP)\n",
            "  us/PRP\n",
            "  all/DT)\n"
          ],
          "name": "stdout"
        }
      ]
    },
    {
      "cell_type": "code",
      "metadata": {
        "id": "Bw9Dl5j3Q53t",
        "colab_type": "code",
        "colab": {}
      },
      "source": [
        ""
      ],
      "execution_count": 0,
      "outputs": []
    },
    {
      "cell_type": "code",
      "metadata": {
        "id": "bucbaTwn5Db5",
        "colab_type": "code",
        "outputId": "ffe862a1-c8c7-44eb-ab3c-938d9c9e7e70",
        "colab": {
          "base_uri": "https://localhost:8080/",
          "height": 34
        }
      },
      "source": [
        "import string\n",
        "from collections import defaultdict\n",
        "\n",
        "special_chars = string.punctuation\n",
        "actual_disasters_list = actual_disasters.to_list()\n",
        "not_disasters_list = not_disasters.to_list()\n",
        "all_texts = actual_disasters_list + not_disasters_list\n",
        "all_texts = [x.split() for x in all_texts]\n",
        "len(all_texts), len(actual_disasters_list) + len(not_disasters_list)"
      ],
      "execution_count": 0,
      "outputs": [
        {
          "output_type": "execute_result",
          "data": {
            "text/plain": [
              "(7613, 7613)"
            ]
          },
          "metadata": {
            "tags": []
          },
          "execution_count": 10
        }
      ]
    },
    {
      "cell_type": "code",
      "metadata": {
        "id": "_fchpiJw6bvX",
        "colab_type": "code",
        "colab": {}
      },
      "source": [
        " def get_dict(lists):\n",
        "  dic = defaultdict(int)\n",
        "  for j in lists:\n",
        "    for i in j:\n",
        "      if i in special_chars:\n",
        "        dic[i] += 1\n",
        "  return dic"
      ],
      "execution_count": 0,
      "outputs": []
    },
    {
      "cell_type": "markdown",
      "metadata": {
        "id": "PQam14N9DHPP",
        "colab_type": "text"
      },
      "source": [
        "**Looking at the special characters present and their frequency.**"
      ]
    },
    {
      "cell_type": "code",
      "metadata": {
        "id": "Bq3gyDjG7S6p",
        "colab_type": "code",
        "outputId": "5ba0571c-66f8-4c25-f793-894ddfe47abb",
        "colab": {
          "base_uri": "https://localhost:8080/",
          "height": 283
        }
      },
      "source": [
        "dic_ad = get_dict(actual_disasters)\n",
        "dic_nd = get_dict(not_disasters)\n",
        "x_ad, y_ad = zip(*dic_ad.items())\n",
        "plt.bar(x_ad, y_ad, color = 'red')\n"
      ],
      "execution_count": 0,
      "outputs": [
        {
          "output_type": "execute_result",
          "data": {
            "text/plain": [
              "<BarContainer object of 29 artists>"
            ]
          },
          "metadata": {
            "tags": []
          },
          "execution_count": 12
        },
        {
          "output_type": "display_data",
          "data": {
            "image/png": "[encoded data removed]",
            "text/plain": [
              "<Figure size 432x288 with 1 Axes>"
            ]
          },
          "metadata": {
            "tags": []
          }
        }
      ]
    },
    {
      "cell_type": "code",
      "metadata": {
        "id": "pFJaLJaQDSxm",
        "colab_type": "code",
        "outputId": "a8ce1b34-2d7a-4ba2-b1e5-5f2e5befe95e",
        "colab": {
          "base_uri": "https://localhost:8080/",
          "height": 34
        }
      },
      "source": [
        "import re \n",
        "string = 'Go To https://www.mysite.com'\n",
        "pattern = 'https://\\S+|www\\.\\S+'\n",
        "res = re.sub(pattern, '', string, re.IGNORECASE)\n",
        "print(res)"
      ],
      "execution_count": 0,
      "outputs": [
        {
          "output_type": "stream",
          "text": [
            "Go To \n"
          ],
          "name": "stdout"
        }
      ]
    },
    {
      "cell_type": "markdown",
      "metadata": {
        "id": "PonPNpPODXb0",
        "colab_type": "text"
      },
      "source": [
        "Looking for the presence of stopwords and their counts."
      ]
    },
    {
      "cell_type": "code",
      "metadata": {
        "id": "w69k6Z30P_jX",
        "colab_type": "code",
        "outputId": "9203ccf5-e460-4e69-ce4d-46d35055fd9b",
        "colab": {
          "base_uri": "https://localhost:8080/",
          "height": 316
        }
      },
      "source": [
        "from nltk.corpus import stopwords\n",
        "nltk.download('stopwords')\n",
        "stop=set(stopwords.words('english'))\n",
        "word_count = defaultdict(int)\n",
        "for tweets in all_texts:\n",
        "  for word in tweets:\n",
        "    if word in stop:\n",
        "      word_count[word] += 1\n",
        "top=sorted(word_count.items(), key=lambda x:x[1],reverse=True)[:10]\n",
        "words, counts = zip(*top)\n",
        "plt.bar(words, counts, color = 'blue')"
      ],
      "execution_count": 0,
      "outputs": [
        {
          "output_type": "stream",
          "text": [
            "[nltk_data] Downloading package stopwords to /root/nltk_data...\n",
            "[nltk_data]   Unzipping corpora/stopwords.zip.\n"
          ],
          "name": "stdout"
        },
        {
          "output_type": "execute_result",
          "data": {
            "text/plain": [
              "<BarContainer object of 10 artists>"
            ]
          },
          "metadata": {
            "tags": []
          },
          "execution_count": 14
        },
        {
          "output_type": "display_data",
          "data": {
            "image/png": "[encoded data removed]",
            "text/plain": [
              "<Figure size 432x288 with 1 Axes>"
            ]
          },
          "metadata": {
            "tags": []
          }
        }
      ]
    },
    {
      "cell_type": "markdown",
      "metadata": {
        "id": "_Rq8i3VkDTu_",
        "colab_type": "text"
      },
      "source": [
        "CHECKING AND REMOVING URLS"
      ]
    },
    {
      "cell_type": "code",
      "metadata": {
        "id": "opbcGy96B6P-",
        "colab_type": "code",
        "outputId": "ebcc1d9a-6678-4568-c12c-984371eefe8a",
        "colab": {
          "base_uri": "https://localhost:8080/",
          "height": 34
        }
      },
      "source": [
        "### CHECK FOR URLS\n",
        "import re\n",
        "def check_urls(texts):\n",
        "  linked_tweets = []\n",
        "  pattern1 = 'http://\\S+|www\\.\\S+'\n",
        "  pattern2 = 'https://\\S+|www\\.\\S+'\n",
        "  for x in texts:\n",
        "    if re.search(pattern1, x, re.IGNORECASE)!=None or  re.search(pattern2, x, re.IGNORECASE) != None:\n",
        "      linked_tweets.append(x)\n",
        "  return linked_tweets\n",
        "linked_tweets = check_urls(not_disasters_list)\n",
        "print(len(linked_tweets))"
      ],
      "execution_count": 0,
      "outputs": [
        {
          "output_type": "stream",
          "text": [
            "1799\n"
          ],
          "name": "stdout"
        }
      ]
    },
    {
      "cell_type": "markdown",
      "metadata": {
        "id": "i907tXmlDcm5",
        "colab_type": "text"
      },
      "source": [
        "Finding tweets with hypertext"
      ]
    },
    {
      "cell_type": "code",
      "metadata": {
        "id": "YTzuFZ4UNnfk",
        "colab_type": "code",
        "outputId": "d86e82f2-5dfb-4957-d10d-4e611d2815fb",
        "colab": {
          "base_uri": "https://localhost:8080/",
          "height": 34
        }
      },
      "source": [
        "pattern = r\"<.*>\"\n",
        "linked_tweets = []\n",
        "for x in actual_disasters_list:\n",
        "  if re.search(pattern, x, re.IGNORECASE)!=None:\n",
        "    linked_tweets.append(x)\n",
        "print(len(linked_tweets))"
      ],
      "execution_count": 0,
      "outputs": [
        {
          "output_type": "stream",
          "text": [
            "0\n"
          ],
          "name": "stdout"
        }
      ]
    },
    {
      "cell_type": "code",
      "metadata": {
        "id": "WpTgrpcyH89Y",
        "colab_type": "code",
        "outputId": "fd1491d9-70a1-4885-8d12-57dfa5cc8ba7",
        "colab": {
          "base_uri": "https://localhost:8080/",
          "height": 34
        }
      },
      "source": [
        "### REMOVE URLS ###\n",
        "def remove_urls(x):\n",
        "  pattern1 = r'http?://\\S+|www\\.\\S+'\n",
        "  pattern2 = r'https?://\\S+|www\\.\\S+'\n",
        "  res = re.sub(pattern1, '', x, re.IGNORECASE)\n",
        "  res = re.sub(pattern2, '', x, re.IGNORECASE)\n",
        "  return res\n",
        "\n",
        "df_train['text'] = df_train['text'].map(lambda x: remove_urls(x))\n",
        "linked_tweets = check_urls(df_train['text'].to_list())\n",
        "print(len(linked_tweets))\n",
        "### REMOVE HTML TAGS ###\n",
        "def remove_tags(x):\n",
        "  pass"
      ],
      "execution_count": 0,
      "outputs": [
        {
          "output_type": "stream",
          "text": [
            "25\n"
          ],
          "name": "stdout"
        }
      ]
    },
    {
      "cell_type": "code",
      "metadata": {
        "id": "h3MUl3UQU1a7",
        "colab_type": "code",
        "outputId": "6abca2ed-90a9-4cf6-eeaa-a9e9bb8c5590",
        "colab": {
          "base_uri": "https://localhost:8080/",
          "height": 34
        }
      },
      "source": [
        "def remove_emoji(text):\n",
        "    emoji_pattern = re.compile(\"[\"\n",
        "                           u\"\\U0001F600-\\U0001F64F\"  # emoticons\n",
        "                           u\"\\U0001F300-\\U0001F5FF\"  # symbols & pictographs\n",
        "                           u\"\\U0001F680-\\U0001F6FF\"  # transport & map symbols\n",
        "                           u\"\\U0001F1E0-\\U0001F1FF\"  # flags (iOS)\n",
        "                           u\"\\U00002702-\\U000027B0\"\n",
        "                           u\"\\U000024C2-\\U0001F251\"\n",
        "                           \"]+\", flags=re.UNICODE)\n",
        "    return emoji_pattern.sub(r'', text)\n",
        "\n",
        "remove_emoji(\"Omg another Earthquake 😔😔\")"
      ],
      "execution_count": 0,
      "outputs": [
        {
          "output_type": "execute_result",
          "data": {
            "text/plain": [
              "'Omg another Earthquake '"
            ]
          },
          "metadata": {
            "tags": []
          },
          "execution_count": 18
        }
      ]
    },
    {
      "cell_type": "code",
      "metadata": {
        "id": "LSBahOVIvSEE",
        "colab_type": "code",
        "colab": {}
      },
      "source": [
        "df_train['text']=df_train['text'].apply(lambda x: remove_emoji(x))"
      ],
      "execution_count": 0,
      "outputs": []
    },
    {
      "cell_type": "code",
      "metadata": {
        "id": "cZzMVQFavViu",
        "colab_type": "code",
        "colab": {}
      },
      "source": [
        "def remove_punct(text):\n",
        "  pattern = r'[^a-zA-Z0-9\\s]'\n",
        "  text = re.sub(pattern, '', text)\n",
        "  return text\n",
        "\n",
        "df_train['text'] = df_train['text'].map(lambda x: \n",
        "                                        remove_punct(x))"
      ],
      "execution_count": 0,
      "outputs": []
    },
    {
      "cell_type": "code",
      "metadata": {
        "id": "W-RtjZeu0QOK",
        "colab_type": "code",
        "colab": {}
      },
      "source": [
        "dic = get_dict(df_train['text'].to_list())"
      ],
      "execution_count": 0,
      "outputs": []
    },
    {
      "cell_type": "code",
      "metadata": {
        "id": "EA2WcvhW0UhK",
        "colab_type": "code",
        "outputId": "7d41146d-5e18-422d-b9d6-b0eabe8fdcdd",
        "colab": {
          "base_uri": "https://localhost:8080/",
          "height": 34
        }
      },
      "source": [
        "from keras.preprocessing.text import Tokenizer\n",
        "from keras.preprocessing.sequence import pad_sequences\n",
        "tokenizer = Tokenizer()\n",
        "tokenizer.fit_on_texts(df_train['text'])\n"
      ],
      "execution_count": 0,
      "outputs": [
        {
          "output_type": "stream",
          "text": [
            "Using TensorFlow backend.\n"
          ],
          "name": "stderr"
        }
      ]
    },
    {
      "cell_type": "code",
      "metadata": {
        "id": "qbG9fsodInky",
        "colab_type": "code",
        "outputId": "0fa0489e-0782-41ee-aaf5-2ed3b7d42779",
        "colab": {
          "base_uri": "https://localhost:8080/",
          "height": 34
        }
      },
      "source": [
        "def remove_stopwords(text):\n",
        "  tokens = text.split()\n",
        "  filtered_tokens = [token for token in tokens\n",
        "                     if token.lower() not in stop]\n",
        "  filtered_text = ' '.join(filtered_tokens)\n",
        "  return filtered_text\n",
        "\n",
        "test = \"The a again go into hell\"\n",
        "remove_stopwords(test)"
      ],
      "execution_count": 0,
      "outputs": [
        {
          "output_type": "execute_result",
          "data": {
            "text/plain": [
              "'go hell'"
            ]
          },
          "metadata": {
            "tags": []
          },
          "execution_count": 23
        }
      ]
    },
    {
      "cell_type": "code",
      "metadata": {
        "id": "817D110KKW9z",
        "colab_type": "code",
        "colab": {}
      },
      "source": [
        "df_train['text'] = df_train['text'].map(lambda x: remove_stopwords(x))"
      ],
      "execution_count": 0,
      "outputs": []
    },
    {
      "cell_type": "code",
      "metadata": {
        "id": "pqBLK1E7IW-e",
        "colab_type": "code",
        "colab": {}
      },
      "source": [
        "sequences = tokenizer.texts_to_sequences(df_train['text'])\n"
      ],
      "execution_count": 0,
      "outputs": []
    },
    {
      "cell_type": "code",
      "metadata": {
        "id": "tfoRgOJFbPjs",
        "colab_type": "code",
        "outputId": "70826114-df19-4fac-f2e5-ec311f4a67b0",
        "colab": {
          "base_uri": "https://localhost:8080/",
          "height": 34
        }
      },
      "source": [
        "len(tokenizer.word_index.values())"
      ],
      "execution_count": 0,
      "outputs": [
        {
          "output_type": "execute_result",
          "data": {
            "text/plain": [
              "17797"
            ]
          },
          "metadata": {
            "tags": []
          },
          "execution_count": 26
        }
      ]
    },
    {
      "cell_type": "code",
      "metadata": {
        "id": "Ggp7LTYlKolI",
        "colab_type": "code",
        "colab": {}
      },
      "source": [
        "maxlen = max([len(x) for x in sequences])\n",
        "padded_sequences = pad_sequences(sequences, maxlen = maxlen)\n",
        "labels = df_train['target'].to_list()\n"
      ],
      "execution_count": 0,
      "outputs": []
    },
    {
      "cell_type": "code",
      "metadata": {
        "id": "nI_Qn7COQ3ae",
        "colab_type": "code",
        "colab": {}
      },
      "source": [
        "from sklearn.model_selection import train_test_split\n",
        "x_train, x_test, y_train, y_test = train_test_split(padded_sequences, labels, test_size = 0.2, stratify = labels)\n",
        "x_train, x_test, y_train, y_test = np.array(x_train), np.array(x_test), np.array(y_train), np.array(y_test)"
      ],
      "execution_count": 0,
      "outputs": []
    },
    {
      "cell_type": "code",
      "metadata": {
        "id": "bsaPIeJTO7sh",
        "colab_type": "code",
        "colab": {}
      },
      "source": [
        "input_dim = len(tokenizer.word_index.values())\n",
        "embedding_dim = 64\n",
        "optimizer = 'adam'\n",
        "loss = 'binary_crossentropy'\n",
        "metrics = ['acc']"
      ],
      "execution_count": 0,
      "outputs": []
    },
    {
      "cell_type": "code",
      "metadata": {
        "id": "rppMpTMmRjcX",
        "colab_type": "code",
        "outputId": "ff6b19da-b700-47a6-d251-c0b2c77d4005",
        "colab": {
          "base_uri": "https://localhost:8080/",
          "height": 357
        }
      },
      "source": [
        "!wget http://nlp.stanford.edu/data/glove.6B.zip"
      ],
      "execution_count": 0,
      "outputs": [
        {
          "output_type": "stream",
          "text": [
            "--2020-04-23 09:11:21--  http://nlp.stanford.edu/data/glove.6B.zip\n",
            "Resolving nlp.stanford.edu (nlp.stanford.edu)... 171.64.67.140\n",
            "Connecting to nlp.stanford.edu (nlp.stanford.edu)|171.64.67.140|:80... connected.\n",
            "HTTP request sent, awaiting response... 302 Found\n",
            "Location: https://nlp.stanford.edu/data/glove.6B.zip [following]\n",
            "--2020-04-23 09:11:21--  https://nlp.stanford.edu/data/glove.6B.zip\n",
            "Connecting to nlp.stanford.edu (nlp.stanford.edu)|171.64.67.140|:443... connected.\n",
            "HTTP request sent, awaiting response... 301 Moved Permanently\n",
            "Location: http://downloads.cs.stanford.edu/nlp/data/glove.6B.zip [following]\n",
            "--2020-04-23 09:11:22--  http://downloads.cs.stanford.edu/nlp/data/glove.6B.zip\n",
            "Resolving downloads.cs.stanford.edu (downloads.cs.stanford.edu)... 171.64.64.22\n",
            "Connecting to downloads.cs.stanford.edu (downloads.cs.stanford.edu)|171.64.64.22|:80... connected.\n",
            "HTTP request sent, awaiting response... 200 OK\n",
            "Length: 862182613 (822M) [application/zip]\n",
            "Saving to: ‘glove.6B.zip’\n",
            "\n",
            "glove.6B.zip        100%[===================>] 822.24M  2.00MB/s    in 6m 30s  \n",
            "\n",
            "2020-04-23 09:17:52 (2.11 MB/s) - ‘glove.6B.zip’ saved [862182613/862182613]\n",
            "\n"
          ],
          "name": "stdout"
        }
      ]
    },
    {
      "cell_type": "code",
      "metadata": {
        "id": "zk-M3i8dTUgl",
        "colab_type": "code",
        "outputId": "7c6512c6-2592-48e7-df48-e60d3cd17eb8",
        "colab": {
          "base_uri": "https://localhost:8080/",
          "height": 102
        }
      },
      "source": [
        "!unzip glove.6B.zip"
      ],
      "execution_count": 0,
      "outputs": [
        {
          "output_type": "stream",
          "text": [
            "Archive:  glove.6B.zip\n",
            "  inflating: glove.6B.50d.txt        \n",
            "  inflating: glove.6B.100d.txt       \n",
            "  inflating: glove.6B.200d.txt       \n",
            "  inflating: glove.6B.300d.txt       \n"
          ],
          "name": "stdout"
        }
      ]
    },
    {
      "cell_type": "code",
      "metadata": {
        "id": "IgkW3wxQYKZU",
        "colab_type": "code",
        "outputId": "dafe6594-6edc-463c-98d7-0106dff2bd97",
        "colab": {
          "base_uri": "https://localhost:8080/",
          "height": 204
        }
      },
      "source": [
        "!wget \"https://s3.amazonaws.com/dl4j-distribution/GoogleNews-vectors-negative300.bin.gz\""
      ],
      "execution_count": 0,
      "outputs": [
        {
          "output_type": "stream",
          "text": [
            "--2020-04-23 09:31:36--  https://s3.amazonaws.com/dl4j-distribution/GoogleNews-vectors-negative300.bin.gz\n",
            "Resolving s3.amazonaws.com (s3.amazonaws.com)... 52.216.233.69\n",
            "Connecting to s3.amazonaws.com (s3.amazonaws.com)|52.216.233.69|:443... connected.\n",
            "HTTP request sent, awaiting response... 200 OK\n",
            "Length: 1647046227 (1.5G) [application/x-gzip]\n",
            "Saving to: ‘GoogleNews-vectors-negative300.bin.gz’\n",
            "\n",
            "GoogleNews-vectors- 100%[===================>]   1.53G  89.8MB/s    in 19s     \n",
            "\n",
            "2020-04-23 09:31:55 (81.8 MB/s) - ‘GoogleNews-vectors-negative300.bin.gz’ saved [1647046227/1647046227]\n",
            "\n"
          ],
          "name": "stdout"
        }
      ]
    },
    {
      "cell_type": "code",
      "metadata": {
        "id": "G3a8GuNhZ5cH",
        "colab_type": "code",
        "outputId": "e7631157-1133-48ca-ad9d-624133e3df15",
        "colab": {
          "base_uri": "https://localhost:8080/",
          "height": 88
        }
      },
      "source": [
        "from gensim.models.keyedvectors import KeyedVectors\n",
        "word_vectors = KeyedVectors.load_word2vec_format(\n",
        "          \"GoogleNews-vectors-negative300.bin.gz\", binary = True,\n",
        "          limit = 200000\n",
        "      )\n"
      ],
      "execution_count": 0,
      "outputs": [
        {
          "output_type": "stream",
          "text": [
            "/usr/local/lib/python3.6/dist-packages/smart_open/smart_open_lib.py:253: UserWarning: This function is deprecated, use smart_open.open instead. See the migration notes for details: https://github.com/RaRe-Technologies/smart_open/blob/master/README.rst#migrating-to-the-new-open-function\n",
            "  'See the migration notes for details: %s' % _MIGRATION_NOTES_URL\n"
          ],
          "name": "stderr"
        },
        {
          "output_type": "execute_result",
          "data": {
            "text/plain": [
              "300"
            ]
          },
          "metadata": {
            "tags": []
          },
          "execution_count": 42
        }
      ]
    },
    {
      "cell_type": "markdown",
      "metadata": {
        "id": "-6Sjor-xEBWQ",
        "colab_type": "text"
      },
      "source": [
        "The following Callbacks where used during training:\n",
        "\n",
        "\n",
        "*   **EarlyStopping**: Stops the training process if the specified metric stops improving \n",
        "*   **ReduceLROnPlateau**: Reduce the learning rate when the metric has stopped improving.\n",
        "\n"
      ]
    },
    {
      "cell_type": "code",
      "metadata": {
        "id": "5d6x-ezWLzdg",
        "colab_type": "code",
        "colab": {}
      },
      "source": [
        "## BASE LINE MODEL\n",
        "from tensorflow.keras.models import Sequential\n",
        "from tensorflow.keras.layers import Flatten, Dense, Embedding, LSTM, SimpleRNN, Bidirectional, Dropout, BatchNormalization\n",
        "import os\n",
        "import tensorflow.keras \n",
        "class MyModel:\n",
        "  def __init__(self):\n",
        "    pass\n",
        "  def Model(self, embedding_type = 'custom',\n",
        "            loss = 'binary_crossentropy', optimizer = 'adam', metrics = ['acc'], input_dim = 30, \n",
        "            embedding_dim = 64, tokenizer = None):\n",
        "    model = Sequential()\n",
        "    \n",
        "    if embedding_type == 'custom':\n",
        "      model.add(Embedding(input_dim + 1, embedding_dim))\n",
        "    elif embedding_type == 'glove':\n",
        "      embeddings_index = {}\n",
        "      f = open('glove.6B.100d.txt')\n",
        "      for line in f:\n",
        "        values = line.split()\n",
        "        word = values[0]\n",
        "        coefs = np.asarray(values[1:], dtype = 'float32')\n",
        "        embeddings_index[word] = coefs\n",
        "      f.close()\n",
        "      word_index = tokenizer.word_index\n",
        "      embedding_dim = 100\n",
        "      embedding_matrix = np.zeros((input_dim + 1, embedding_dim))\n",
        "      for word, i in word_index.items():\n",
        "        embedding_vector = embeddings_index.get(word) \n",
        "        if i < input_dim + 1:\n",
        "          if embedding_vector is not None:\n",
        "            embedding_matrix[i] = embedding_vector \n",
        "      model.add(Embedding(input_dim + 1, embedding_dim))\n",
        "      model.layers[0].set_weights([embedding_matrix])\n",
        "      model.layers[0].trainable = False\n",
        "    elif embedding_type == 'word2vec':\n",
        "      from gensim.models.keyedvectors import KeyedVectors\n",
        "      word_vectors = KeyedVectors.load_word2vec_format(\n",
        "          \"GoogleNews-vectors-negative300.bin.gz\", binary = True\n",
        "      )\n",
        "      word_index = tokenizer.word_index\n",
        "      embedding_dim = 300\n",
        "      embedding_matrix = np.zeros((input_dim + 1, embedding_dim))\n",
        "      for word, i in word_index.items():\n",
        "        try:\n",
        "          embedding_vector = word_vectors[word] \n",
        "        except KeyError:\n",
        "          embedding_vector = np.zeros((embedding_dim,))\n",
        "        if i < input_dim + 1:\n",
        "          if embedding_vector is not None:\n",
        "            embedding_matrix[i] = embedding_vector \n",
        "      model.add(Embedding(input_dim + 1, embedding_dim))\n",
        "      model.layers[0].set_weights([embedding_matrix])\n",
        "      model.layers[0].trainable = False\n",
        "    model.add(Bidirectional(LSTM(embedding_dim, recurrent_dropout = 0.2)))\n",
        "    model.add(BatchNormalization())\n",
        "    model.add(Dense(64))\n",
        "    model.add(Dropout(0.5))\n",
        "    model.add(Dense(32))\n",
        "    model.add(Dropout(0.5))\n",
        "    model.add(Dense(1, activation = 'sigmoid'))\n",
        "    model.compile(optimizer = optimizer, loss = loss, metrics = metrics)\n",
        "    return model\n",
        "  \n",
        "  def fit(self, model, x_train, y_train, epochs = 100, batch_size = 128, validation_split = 0.2):\n",
        "    callbacks_list = [tensorflow.keras.callbacks.EarlyStopping(monitor = 'val_acc', patience = 1),\n",
        "                      tensorflow.keras.callbacks.ReduceLROnPlateau(monitor = 'val_loss', factor = 0.1, patience = 10)]\n",
        "    history = model.fit(x_train, y_train, epochs = epochs, batch_size = batch_size,\n",
        "              validation_split = validation_split, callbacks = callbacks_list)\n",
        "    return history\n",
        "  \n",
        "  def get_plots(self):\n",
        "    pass"
      ],
      "execution_count": 0,
      "outputs": []
    },
    {
      "cell_type": "code",
      "metadata": {
        "id": "g5w18w_TWuTW",
        "colab_type": "code",
        "outputId": "f366e980-c3c7-4812-ecec-4c271520fce7",
        "colab": {
          "base_uri": "https://localhost:8080/",
          "height": 547
        }
      },
      "source": [
        "mm = MyModel()\n",
        "model = mm.Model(embedding_type = 'glove', tokenizer = tokenizer, input_dim = len(tokenizer.word_index.values()))\n",
        "history_glove = mm.fit(model, x_train, y_train, batch_size = 128)\n",
        "model = mm.Model(embedding_type = 'custom', tokenizer = tokenizer, input_dim = len(tokenizer.word_index.values()))\n",
        "history_custom = mm.fit(model, x_train, y_train, batch_size = 128)\n",
        "model = mm.Model(embedding_type = 'word2vec', tokenizer = tokenizer, input_dim = len(tokenizer.word_index.values()))\n",
        "history_w2v = mm.fit(model, x_train, y_train, batch_size = 128)"
      ],
      "execution_count": 0,
      "outputs": [
        {
          "output_type": "stream",
          "text": [
            "Epoch 1/100\n",
            "39/39 [==============================] - 6s 166ms/step - loss: 0.7046 - acc: 0.7159 - val_loss: 0.6038 - val_acc: 0.7512 - lr: 0.0010\n",
            "Epoch 2/100\n",
            "39/39 [==============================] - 6s 161ms/step - loss: 0.5504 - acc: 0.7631 - val_loss: 0.5883 - val_acc: 0.7553 - lr: 0.0010\n",
            "Epoch 3/100\n",
            "39/39 [==============================] - 6s 155ms/step - loss: 0.5058 - acc: 0.7755 - val_loss: 0.5799 - val_acc: 0.7545 - lr: 0.0010\n",
            "Epoch 1/100\n",
            "39/39 [==============================] - 5s 123ms/step - loss: 0.6411 - acc: 0.6310 - val_loss: 0.6787 - val_acc: 0.5427 - lr: 0.0010\n",
            "Epoch 2/100\n",
            "39/39 [==============================] - 4s 110ms/step - loss: 0.3541 - acc: 0.8582 - val_loss: 0.6513 - val_acc: 0.6084 - lr: 0.0010\n",
            "Epoch 3/100\n",
            "39/39 [==============================] - 4s 109ms/step - loss: 0.1600 - acc: 0.9491 - val_loss: 0.6033 - val_acc: 0.7447 - lr: 0.0010\n",
            "Epoch 4/100\n",
            "39/39 [==============================] - 4s 109ms/step - loss: 0.1140 - acc: 0.9678 - val_loss: 0.5897 - val_acc: 0.7603 - lr: 0.0010\n",
            "Epoch 5/100\n",
            "39/39 [==============================] - 4s 109ms/step - loss: 0.0829 - acc: 0.9770 - val_loss: 0.6071 - val_acc: 0.6535 - lr: 0.0010\n"
          ],
          "name": "stdout"
        },
        {
          "output_type": "stream",
          "text": [
            "/usr/local/lib/python3.6/dist-packages/smart_open/smart_open_lib.py:253: UserWarning: This function is deprecated, use smart_open.open instead. See the migration notes for details: https://github.com/RaRe-Technologies/smart_open/blob/master/README.rst#migrating-to-the-new-open-function\n",
            "  'See the migration notes for details: %s' % _MIGRATION_NOTES_URL\n"
          ],
          "name": "stderr"
        },
        {
          "output_type": "stream",
          "text": [
            "Epoch 1/100\n",
            "39/39 [==============================] - 38s 962ms/step - loss: 0.7519 - acc: 0.7083 - val_loss: 0.6356 - val_acc: 0.6593 - lr: 0.0010\n",
            "Epoch 2/100\n",
            "39/39 [==============================] - 37s 949ms/step - loss: 0.5606 - acc: 0.7642 - val_loss: 0.6206 - val_acc: 0.6921 - lr: 0.0010\n",
            "Epoch 3/100\n",
            "39/39 [==============================] - 38s 968ms/step - loss: 0.5356 - acc: 0.7835 - val_loss: 0.6010 - val_acc: 0.7184 - lr: 0.0010\n",
            "Epoch 4/100\n",
            "39/39 [==============================] - 37s 949ms/step - loss: 0.4750 - acc: 0.7939 - val_loss: 0.5907 - val_acc: 0.7668 - lr: 0.0010\n",
            "Epoch 5/100\n",
            "39/39 [==============================] - 37s 954ms/step - loss: 0.4442 - acc: 0.8091 - val_loss: 0.5683 - val_acc: 0.7726 - lr: 0.0010\n",
            "Epoch 6/100\n",
            "39/39 [==============================] - 37s 952ms/step - loss: 0.4404 - acc: 0.8091 - val_loss: 0.5414 - val_acc: 0.7668 - lr: 0.0010\n"
          ],
          "name": "stdout"
        }
      ]
    },
    {
      "cell_type": "code",
      "metadata": {
        "id": "aNKNcY_sjpCc",
        "colab_type": "code",
        "outputId": "0a8fb4ed-102d-4fa8-c0b8-386ce886b7b6",
        "colab": {
          "base_uri": "https://localhost:8080/",
          "height": 285
        }
      },
      "source": [
        "glove_acc = history_glove.history['val_acc'][-1]\n",
        "custom_acc = history_custom.history['val_acc'][-1]\n",
        "w2v_acc = history_w2v.history['val_acc'][-1]\n",
        "plt.bar(np.array(['glove', 'custom', 'w2v']), np.array([glove_acc, custom_acc, w2v_acc]), width = 0.2)"
      ],
      "execution_count": 0,
      "outputs": [
        {
          "output_type": "execute_result",
          "data": {
            "text/plain": [
              "<BarContainer object of 3 artists>"
            ]
          },
          "metadata": {
            "tags": []
          },
          "execution_count": 55
        },
        {
          "output_type": "display_data",
          "data": {
            "image/png": "[encoded data removed]",
            "text/plain": [
              "<Figure size 432x288 with 1 Axes>"
            ]
          },
          "metadata": {
            "tags": []
          }
        }
      ]
    },
    {
      "cell_type": "code",
      "metadata": {
        "id": "YnjWWnTCljw1",
        "colab_type": "code",
        "colab": {}
      },
      "source": [
        "def plot_model_details(data, data_type):\n",
        "  fig, (ax1, ax2) = plt.subplots(1, 2, sharex = True, sharey = True, figsize = (10, 5))\n",
        "  acc = data['acc']\n",
        "  val_acc = data['val_acc']\n",
        "  loss = data['loss']\n",
        "  val_loss = data['val_loss']\n",
        "  epochs = range(1, len(acc) + 1)\n",
        "  \n",
        "  ax1.plot(epochs, acc, 'b', label = 'accuracy')\n",
        "  ax1.plot(epochs, val_acc, 'b', label = 'validation accuracy', color = 'red')\n",
        "  ax1.legend()\n",
        "  ax2.plot(epochs, loss, 'b', label = 'loss')\n",
        "  ax2.plot(epochs, val_loss, 'b', label = 'validation loss', color = 'red')\n",
        "  ax2.legend()\n",
        "  fig.suptitle(data_type)"
      ],
      "execution_count": 0,
      "outputs": []
    },
    {
      "cell_type": "markdown",
      "metadata": {
        "id": "0U2AqRwND0Ga",
        "colab_type": "text"
      },
      "source": [
        "The plots:\n",
        "\n",
        "\n",
        "*   Plot of Validation Accuracy & Training Accuracy\n",
        "*   Plot of Validation Loss & Training Loss\n",
        "\n"
      ]
    },
    {
      "cell_type": "code",
      "metadata": {
        "id": "CHlQJGSL79I4",
        "colab_type": "code",
        "outputId": "e0279222-f9a1-4b3e-bb33-2d752f7fc739",
        "colab": {
          "base_uri": "https://localhost:8080/",
          "height": 1000
        }
      },
      "source": [
        "data_glove = history_glove.history\n",
        "data_custom = history_custom.history\n",
        "data_w2v = history_w2v.history\n",
        "plot_model_details(data_glove, 'glove')\n",
        "plot_model_details(data_custom, 'custom')\n",
        "plot_model_details(data_w2v, 'word2vec')"
      ],
      "execution_count": 0,
      "outputs": [
        {
          "output_type": "display_data",
          "data": {
            "image/png": "[encoded data removed]",
            "text/plain": [
              "<Figure size 720x360 with 2 Axes>"
            ]
          },
          "metadata": {
            "tags": []
          }
        },
        {
          "output_type": "display_data",
          "data": {
            "image/png": "[encoded data removed]",
            "text/plain": [
              "<Figure size 720x360 with 2 Axes>"
            ]
          },
          "metadata": {
            "tags": []
          }
        },
        {
          "output_type": "display_data",
          "data": {
            "image/png": "[encoded data removed]",
            "text/plain": [
              "<Figure size 720x360 with 2 Axes>"
            ]
          },
          "metadata": {
            "tags": []
          }
        }
      ]
    }
  ]
}